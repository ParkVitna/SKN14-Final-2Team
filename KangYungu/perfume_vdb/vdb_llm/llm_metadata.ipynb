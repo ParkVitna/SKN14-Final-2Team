{
 "cells": [
  {
   "cell_type": "code",
   "execution_count": 1,
   "id": "e97ed774",
   "metadata": {},
   "outputs": [],
   "source": [
    "!pip install -q openai pinecone python-dotenv pandas"
   ]
  },
  {
   "cell_type": "code",
   "execution_count": 2,
   "id": "77086cf0",
   "metadata": {},
   "outputs": [
    {
     "name": "stderr",
     "output_type": "stream",
     "text": [
      "c:\\Users\\playdata2\\miniconda3\\envs\\web_server_env\\Lib\\site-packages\\tqdm\\auto.py:21: TqdmWarning: IProgress not found. Please update jupyter and ipywidgets. See https://ipywidgets.readthedocs.io/en/stable/user_install.html\n",
      "  from .autonotebook import tqdm as notebook_tqdm\n"
     ]
    }
   ],
   "source": [
    "import os, time, json\n",
    "from typing import Any, Dict, List\n",
    "import pandas as pd\n",
    "\n",
    "from dotenv import load_dotenv, find_dotenv\n",
    "from openai import OpenAI\n",
    "from pinecone import Pinecone\n",
    "load_dotenv(find_dotenv(usecwd=True))\n",
    "\n",
    "OPENAI_API_KEY = os.getenv(\"OPENAI_API_KEY\")\n",
    "PINECONE_API_KEY = os.getenv(\"PINECONE_API_KEY\")\n",
    "assert OPENAI_API_KEY and PINECONE_API_KEY, \"환경변수(OPENAI_API_KEY, PINECONE_API_KEY)를 .env에 넣어주세요.\"\n",
    "\n",
    "INDEX_NAME = \"perfume-rag\"\n",
    "NAMESPACE  = \"catalog\"\n",
    "EMBED_MODEL = \"text-embedding-3-small\"\n",
    "CHAT_MODEL  = \"gpt-4o-mini\"\n",
    "\n",
    "oa = OpenAI(api_key=OPENAI_API_KEY)\n",
    "pc = Pinecone(api_key=PINECONE_API_KEY)\n",
    "index = pc.Index(INDEX_NAME)"
   ]
  },
  {
   "cell_type": "code",
   "execution_count": null,
   "id": "7945d9b9",
   "metadata": {},
   "outputs": [],
   "source": [
    "from statistics import mean, median\n",
    "from textwrap import dedent\n",
    "\n",
    "def embed(text: str) -> List[float]:\n",
    "    return oa.embeddings.create(model=EMBED_MODEL, input=text).data[0].embedding\n",
    "\n",
    "def pinecone_search(qvec: List[float], top_k=5, filt: Dict[str, Any] | None = None):\n",
    "    t0 = time.perf_counter()\n",
    "    res = index.query(\n",
    "        vector=qvec, top_k=top_k, include_metadata=True,\n",
    "        include_values=False, namespace=NAMESPACE,\n",
    "        filter=filt if filt else None\n",
    "    )\n",
    "    t1 = time.perf_counter()\n",
    "    return res, (t1 - t0) * 1000.0  # ms\n",
    "\n",
    "def format_context(matches) -> str:\n",
    "    lines = []\n",
    "    for i, m in enumerate(matches, 1):\n",
    "        md = m.metadata or {}\n",
    "        brand = md.get(\"brand\", \"\")\n",
    "        name  = md.get(\"name\", \"\")\n",
    "        conc  = md.get(\"concentration\", \"\")\n",
    "        price = md.get(\"price_krw\", \"\")\n",
    "        size  = md.get(\"size_ml\", \"\")\n",
    "        accords = \", \".join(md.get(\"main_accords\", [])[:5])\n",
    "        top    = \", \".join(md.get(\"top_notes\", [])[:5])\n",
    "        mid    = \", \".join(md.get(\"middle_notes\", [])[:5])\n",
    "        base   = \", \".join(md.get(\"base_notes\", [])[:5])\n",
    "        parts = [f\"[{i}] {brand} | {name}\"]\n",
    "        if conc: parts.append(f\"농도: {conc}\")\n",
    "        if size: parts.append(f\"{size}ml\")\n",
    "        if price: parts.append(f\"{price}원\")\n",
    "        if accords: parts.append(f\"메인 어코드: {accords}\")\n",
    "        if top: parts.append(f\"탑: {top}\")\n",
    "        if mid: parts.append(f\"미들: {mid}\")\n",
    "        if base: parts.append(f\"베이스: {base}\")\n",
    "        lines.append(\" · \".join(parts))\n",
    "    return \"\\n\".join(lines)\n",
    "\n",
    "def build_prompt(question: str, context: str) -> List[Dict[str, str]]:\n",
    "    sys = dedent(\"\"\"\n",
    "        너는 향수 추천 어시스턴트야. 아래 컨텍스트만 근거로 간결히 답해.\n",
    "        모르면 모른다고 말하고, 추측하지 마.\n",
    "    \"\"\").strip()\n",
    "    user = f\"질문: {question}\\n\\n컨텍스트:\\n{context}\"\n",
    "    return [{\"role\":\"system\",\"content\":sys}, {\"role\":\"user\",\"content\":user}]\n",
    "\n",
    "def ask_llm(question: str, context: str) -> tuple[str, float]:\n",
    "    msgs = build_prompt(question, context)\n",
    "    t0 = time.perf_counter()\n",
    "    resp = oa.chat.completions.create(model=CHAT_MODEL, messages=msgs, temperature=0.2)\n",
    "    t1 = time.perf_counter()\n",
    "    answer = resp.choices[0].message.content\n",
    "    return answer, (t1 - t0) * 1000.0\n"
   ]
  },
  {
   "cell_type": "code",
   "execution_count": 9,
   "id": "0c1f65df",
   "metadata": {},
   "outputs": [],
   "source": [
    "def benchmark(question: str, filt: Dict[str, Any] | None, top_k=5, repeats=5):\n",
    "    qvec = embed(question)\n",
    "    search_ms_list, llm_ms_list, total_ms_list = [], [], []\n",
    "\n",
    "    last_context, last_matches = \"\", None\n",
    "    for _ in range(repeats):\n",
    "        res, search_ms = pinecone_search(qvec, top_k=top_k, filt=filt)\n",
    "        matches = res.matches or []\n",
    "        context = format_context(matches)\n",
    "        _, llm_ms = ask_llm(question, context)\n",
    "\n",
    "        search_ms_list.append(search_ms)\n",
    "        llm_ms_list.append(llm_ms)\n",
    "        total_ms_list.append(search_ms + llm_ms)\n",
    "        last_context, last_matches = context, matches\n",
    "\n",
    "    summary = {\n",
    "        \"mode\": \"with_filter\" if filt else \"no_filter\",\n",
    "        \"top_k\": top_k,\n",
    "        \"repeats\": repeats,\n",
    "        \"검색 평균 속도\": round(mean(search_ms_list), 1),\n",
    "        \"검색 중앙값\": round(median(search_ms_list), 1),\n",
    "        \"LLM 호출 평균\": round(mean(llm_ms_list), 1),\n",
    "        \"검색 + LLM\": round(mean(total_ms_list), 1),\n",
    "    }\n",
    "    details = {\n",
    "        \"search_times_ms\": search_ms_list,\n",
    "        \"llm_times_ms\": llm_ms_list,\n",
    "        \"total_times_ms\": total_ms_list,\n",
    "        \"last_context\": last_context,\n",
    "        \"last_matches\": [m.metadata for m in (last_matches or [])],\n",
    "    }\n",
    "    return {\"summary\": summary, \"details\": details}"
   ]
  },
  {
   "cell_type": "code",
   "execution_count": 10,
   "id": "51f45f00",
   "metadata": {},
   "outputs": [
    {
     "data": {
      "text/html": [
       "<div>\n",
       "<style scoped>\n",
       "    .dataframe tbody tr th:only-of-type {\n",
       "        vertical-align: middle;\n",
       "    }\n",
       "\n",
       "    .dataframe tbody tr th {\n",
       "        vertical-align: top;\n",
       "    }\n",
       "\n",
       "    .dataframe thead th {\n",
       "        text-align: right;\n",
       "    }\n",
       "</style>\n",
       "<table border=\"1\" class=\"dataframe\">\n",
       "  <thead>\n",
       "    <tr style=\"text-align: right;\">\n",
       "      <th></th>\n",
       "      <th>top_k</th>\n",
       "      <th>repeats</th>\n",
       "      <th>검색 평균 속도</th>\n",
       "      <th>검색 중앙값</th>\n",
       "      <th>LLM 호출 평균</th>\n",
       "      <th>검색 + LLM</th>\n",
       "    </tr>\n",
       "    <tr>\n",
       "      <th>mode</th>\n",
       "      <th></th>\n",
       "      <th></th>\n",
       "      <th></th>\n",
       "      <th></th>\n",
       "      <th></th>\n",
       "      <th></th>\n",
       "    </tr>\n",
       "  </thead>\n",
       "  <tbody>\n",
       "    <tr>\n",
       "      <th>no_filter</th>\n",
       "      <td>5</td>\n",
       "      <td>5</td>\n",
       "      <td>391.0</td>\n",
       "      <td>217.3</td>\n",
       "      <td>1616.9</td>\n",
       "      <td>2007.9</td>\n",
       "    </tr>\n",
       "    <tr>\n",
       "      <th>with_filter</th>\n",
       "      <td>5</td>\n",
       "      <td>5</td>\n",
       "      <td>211.6</td>\n",
       "      <td>212.5</td>\n",
       "      <td>1279.7</td>\n",
       "      <td>1491.3</td>\n",
       "    </tr>\n",
       "  </tbody>\n",
       "</table>\n",
       "</div>"
      ],
      "text/plain": [
       "             top_k  repeats  검색 평균 속도  검색 중앙값  LLM 호출 평균  검색 + LLM\n",
       "mode                                                              \n",
       "no_filter        5        5     391.0   217.3     1616.9    2007.9\n",
       "with_filter      5        5     211.6   212.5     1279.7    1491.3"
      ]
     },
     "execution_count": 10,
     "metadata": {},
     "output_type": "execute_result"
    }
   ],
   "source": [
    "question = \"여름에 쓰기 좋은 시트러스 향 추천\"\n",
    "\n",
    "res_no = benchmark(question, filt=None, top_k=5, repeats=5)\n",
    "\n",
    "filt = {\"main_accords\": {\"$in\": [\"시트러스\"]}}\n",
    "res_f = benchmark(question, filt=filt, top_k=5, repeats=5)\n",
    "\n",
    "pd.DataFrame([res_no[\"summary\"], res_f[\"summary\"]]).set_index(\"mode\")"
   ]
  },
  {
   "cell_type": "code",
   "execution_count": 6,
   "id": "5e0bd376",
   "metadata": {},
   "outputs": [
    {
     "name": "stdout",
     "output_type": "stream",
     "text": [
      "----- no_filter context -----\n",
      "[1] 메종 마르지엘라 | 언더 더 레몬 트리 오 드 뚜왈렛 · 농도: 오 드 뚜왈렛 · 100.0ml · 1514200.0원 · 메인 어코드: 시트러스, 그린, 아로마틱 · 탑: 라임, 페티그레인, 카다멈 · 미들: 그린티, 마테, 코리안더 · 베이스: 화이트 머스크, 시더, 록 로즈\n",
      "[2] 메종 마르지엘라 | 언더 더 레몬 트리 오 드 뚜왈렛 · 농도: 오 드 뚜왈렛 · 100.0ml · 1514200.0원 · 메인 어코드: 시트러스, 그린, 아로마틱 · 탑: 라임, 페티그레인, 카다멈 · 미들: 그린티, 마테, 코리안더 · 베이스: 화이트 머스크, 시더, 록 로즈\n",
      "[3] 메종 마르지엘라 | 레이지 선데이 모닝 오 드 뚜왈렛 · 농도: 오 드 뚜왈렛 · 100.0ml · 1396200.0원 · 메인 어코드: 머스크, 프레쉬, 화이트 플로랄 · 탑: 알데하이드, 릴리오브더밸리, 페어 · 미들: 장미, 아이리스, 오렌지 블로썸 · 베이스: 화이트 머스크, 암브레트, 인도네시아 페출리 리프\n",
      "[4] 메종 마르지엘라 | 레이지 선데이 모닝 오 드 뚜왈렛 · 농도: 오 드 뚜왈렛 · 30.0ml · 750000.0원 · 메인 어코드: 머스크, 프레쉬, 화이트 플로랄 · 탑: 알데하이드, 릴리오브더밸리, 페어 · 미들: 장미, 아이리스, 오렌지 블로썸 · 베이스: 화이트 머스크, 암브레트, 인도네시아 페출리 리프\n",
      "[5] 메종 마르지엘라 | 레이지 선데이 모닝 오 드 뚜왈렛 · 농도: 오 드 뚜왈렛 · 30.0ml · 750000.0원 · 메인 어코드: 머스크, 프레쉬, 화이트 플로랄 · 탑: 알데하이드, 릴리오브더밸리, 페어 · 미들: 장미, 아이리스, 오렌지 블로썸 · 베이스: 화이트 머스크, 암브레트, 인도네시아 페출리 리프 \n",
      "\n",
      "----- with_filter context -----\n",
      "[1] 메종 마르지엘라 | 언더 더 레몬 트리 오 드 뚜왈렛 · 농도: 오 드 뚜왈렛 · 100.0ml · 1514200.0원 · 메인 어코드: 시트러스, 그린, 아로마틱 · 탑: 라임, 페티그레인, 카다멈 · 미들: 그린티, 마테, 코리안더 · 베이스: 화이트 머스크, 시더, 록 로즈\n",
      "[2] 메종 마르지엘라 | 언더 더 레몬 트리 오 드 뚜왈렛 · 농도: 오 드 뚜왈렛 · 100.0ml · 1514200.0원 · 메인 어코드: 시트러스, 그린, 아로마틱 · 탑: 라임, 페티그레인, 카다멈 · 미들: 그린티, 마테, 코리안더 · 베이스: 화이트 머스크, 시더, 록 로즈\n",
      "[3] 크리드 | 히말라야 오 드 퍼퓸 · 농도: 오 드 퍼퓸 · 50.0ml · 2812200.0원 · 메인 어코드: 시트러스, 우디, 파우더리 · 탑: 칼라브리안, 베르가못, 그레이프 프룻, 시칠리안 레몬 · 미들: 샌달우드 · 베이스: 머스크, 앰버그리스, 시더\n",
      "[4] 크리드 | 히말라야 오 드 퍼퓸 · 농도: 오 드 퍼퓸 · 50.0ml · 2812200.0원 · 메인 어코드: 시트러스, 우디, 파우더리 · 탑: 칼라브리안, 베르가못, 그레이프 프룻, 시칠리안 레몬 · 미들: 샌달우드 · 베이스: 머스크, 앰버그리스, 시더\n",
      "[5] 크리드 | 히말라야 오 드 퍼퓸 · 농도: 오 드 퍼퓸 · 100.0ml · 3414000.0원 · 메인 어코드: 시트러스, 우디, 파우더리 · 탑: 칼라브리안, 베르가못, 그레이프 프룻, 시칠리안 레몬 · 미들: 샌달우드 · 베이스: 머스크, 앰버그리스, 시더 \n",
      "\n",
      "개별 검색(ms): [1088.518699980341, 209.42660002037883, 207.14089996181428, 208.48889998160303, 208.79339997190982] → no_filter\n",
      "개별 검색(ms): [235.1873000152409, 211.34169993456453, 210.19329992122948, 212.5071999616921, 205.5348000722006] → with_filter\n"
     ]
    }
   ],
   "source": [
    "print(\"----- no_filter context -----\")\n",
    "print(res_no[\"details\"][\"last_context\"][:1000], \"\\n\")\n",
    "\n",
    "print(\"----- with_filter context -----\")\n",
    "print(res_f[\"details\"][\"last_context\"][:1000], \"\\n\")\n",
    "\n",
    "print(\"개별 검색(ms):\", res_no[\"details\"][\"search_times_ms\"], \"→ no_filter\")\n",
    "print(\"개별 검색(ms):\", res_f[\"details\"][\"search_times_ms\"], \"→ with_filter\")\n"
   ]
  },
  {
   "cell_type": "code",
   "execution_count": null,
   "id": "de6193f4",
   "metadata": {},
   "outputs": [
    {
     "name": "stdout",
     "output_type": "stream",
     "text": [
      "무필터 준수율: 0.4  | 필터 준수율: 1.0\n"
     ]
    }
   ],
   "source": [
    "def compliance_rate(matches, cond_key, cond_values):\n",
    "    ok, total = 0, 0\n",
    "    for item in matches:\n",
    "        md = getattr(item, \"metadata\", item) or {}\n",
    "        vals = md.get(cond_key, [])\n",
    "        if not isinstance(vals, list):\n",
    "            vals = [vals] if vals is not None else []\n",
    "        if any(v in vals for v in cond_values):\n",
    "            ok += 1\n",
    "        total += 1\n",
    "    return (ok / total) if total else 0.0\n",
    "\n",
    "rate_no  = compliance_rate(res_no[\"details\"][\"last_matches\"],  \"main_accords\", [\"시트러스\"])\n",
    "rate_flt = compliance_rate(res_f[\"details\"][\"last_matches\"],   \"main_accords\", [\"시트러스\"])\n",
    "print(\"필터 X 조건 만족율:\", rate_no, \" | 필터 조건 만족율:\", rate_flt)\n"
   ]
  }
 ],
 "metadata": {
  "kernelspec": {
   "display_name": "web_server_env",
   "language": "python",
   "name": "python3"
  },
  "language_info": {
   "codemirror_mode": {
    "name": "ipython",
    "version": 3
   },
   "file_extension": ".py",
   "mimetype": "text/x-python",
   "name": "python",
   "nbconvert_exporter": "python",
   "pygments_lexer": "ipython3",
   "version": "3.12.11"
  }
 },
 "nbformat": 4,
 "nbformat_minor": 5
}
