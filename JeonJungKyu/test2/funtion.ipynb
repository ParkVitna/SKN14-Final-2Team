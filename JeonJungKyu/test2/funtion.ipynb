{
 "cells": [
  {
   "cell_type": "code",
   "execution_count": 15,
   "id": "70d27f7c",
   "metadata": {},
   "outputs": [
    {
     "name": "stderr",
     "output_type": "stream",
     "text": [
      "c:\\Users\\Playdata2\\miniconda3\\envs\\final-env\\Lib\\site-packages\\tqdm\\auto.py:21: TqdmWarning: IProgress not found. Please update jupyter and ipywidgets. See https://ipywidgets.readthedocs.io/en/stable/user_install.html\n",
      "  from .autonotebook import tqdm as notebook_tqdm\n"
     ]
    }
   ],
   "source": [
    "# function.py\n",
    "import requests\n",
    "import re\n",
    "import os\n",
    "from dotenv import load_dotenv\n",
    "from langchain.tools import tool\n",
    "from pinecone import Pinecone\n",
    "from sentence_transformers import SentenceTransformer\n",
    "from typing import List, Dict, Optional, Tuple\n",
    "\n",
    "\n",
    "# === .env 불러오기 ===\n",
    "load_dotenv()\n",
    "naver_client_id = os.getenv(\"NAVER_CLIENT_ID\")\n",
    "naver_client_secret = os.getenv(\"NAVER_CLIENT_SECRET\")\n"
   ]
  },
  {
   "cell_type": "markdown",
   "id": "f2e31fee",
   "metadata": {},
   "source": [
    "# 네이버 쇼핑 API 함수"
   ]
  },
  {
   "cell_type": "code",
   "execution_count": 16,
   "id": "118589a3",
   "metadata": {},
   "outputs": [],
   "source": [
    "def price_tool(user_query: str) -> str:\n",
    "    \"\"\"A tool that uses the Naver Shopping API to look up perfume prices (results are returned as formatted strings)\"\"\"\n",
    "    \n",
    "    url = \"https://openapi.naver.com/v1/search/shop.json\"\n",
    "    headers = {\n",
    "        \"X-Naver-Client-Id\": naver_client_id,\n",
    "        \"X-Naver-Client-Secret\": naver_client_secret\n",
    "    }\n",
    "    params = {\"query\": user_query, \"display\": 5, \"sort\": \"sim\"}\n",
    "    \n",
    "    try:\n",
    "        response = requests.get(url, headers=headers, params=params)\n",
    "    except Exception as e:\n",
    "        return f\"❌ 요청 오류: {e}\"\n",
    "    \n",
    "    if response.status_code != 200:\n",
    "        return f\"❌ API 오류: {response.status_code}\"\n",
    "    \n",
    "    data = response.json()\n",
    "    if not data or \"items\" not in data or len(data[\"items\"]) == 0:\n",
    "        return f\"😔 '{user_query}'에 대한 검색 결과가 없습니다.\"\n",
    "    \n",
    "    # HTML 태그 제거 함수\n",
    "    def remove_html_tags(text: str) -> str:\n",
    "        return re.sub(r\"<[^>]+>\", \"\", text)\n",
    "    \n",
    "    # 상위 3개만 정리\n",
    "    products = data[\"items\"][:3]\n",
    "    output = f\"🔍 '{user_query}' 검색 결과:\\n\\n\"\n",
    "    for i, item in enumerate(products, 1):\n",
    "        title = remove_html_tags(item.get(\"title\", \"\"))\n",
    "        lprice = item.get(\"lprice\", \"0\")\n",
    "        mall = item.get(\"mallName\", \"정보 없음\")\n",
    "        link = item.get(\"link\", \"정보 없음\")\n",
    "        \n",
    "        output += f\"📦 {i}. {title}\\n\"\n",
    "        if lprice != \"0\":\n",
    "            output += f\"   💰 가격: {int(lprice):,}원\\n\"\n",
    "        output += f\"   🏪 판매처: {mall}\\n\"\n",
    "        output += f\"   🔗 링크: {link}\\n\\n\"\n",
    "    \n",
    "    return output\n"
   ]
  },
  {
   "cell_type": "code",
   "execution_count": 17,
   "id": "42d5dd53",
   "metadata": {},
   "outputs": [
    {
     "data": {
      "text/plain": [
       "\"🔍 '샤넬 NO5 향수 가격 ' 검색 결과:\\n\\n📦 1. CHANEL No.5 오 드 퍼퓸 플로럴향, 50ml, 1개\\n   💰 가격: 130,000원\\n   🏪 판매처: 네이버\\n   🔗 링크: https://search.shopping.naver.com/catalog/53015716331\\n\\n📦 2. [국내백화점/선물포장] 샤넬 넘버5 NO5 오드빠르펭 여성 향수 35ml\\n   💰 가격: 141,000원\\n   🏪 판매처: 라이크컴퍼니\\n   🔗 링크: https://smartstore.naver.com/main/products/11549340601\\n\\n📦 3. 샤넬 넘버5 오드빠르펭 1.5ml\\n   💰 가격: 5,500원\\n   🏪 판매처: 스완코스메틱\\n   🔗 링크: https://smartstore.naver.com/main/products/5992905332\\n\\n\""
      ]
     },
     "execution_count": 17,
     "metadata": {},
     "output_type": "execute_result"
    }
   ],
   "source": [
    "price_tool(\"샤넬 NO5 향수 가격 \")  # 함수 테스트"
   ]
  },
  {
   "cell_type": "markdown",
   "id": "2f38e700",
   "metadata": {},
   "source": [
    "# 메타필터링 Season"
   ]
  },
  {
   "cell_type": "code",
   "execution_count": 19,
   "id": "534e3041",
   "metadata": {},
   "outputs": [],
   "source": [
    "def best_season_tool(user_query: str) -> Optional[Dict]:\n",
    "    \"\"\"\n",
    "    쿼리에서 계절 키워드를 추출해 Pinecone 메타필터 반환\n",
    "    \"\"\"\n",
    "    season_map = {\n",
    "        \"봄\": \"봄\",\n",
    "        \"여름\": \"여름\",\n",
    "        \"가을\": \"가을\",\n",
    "        \"autumn\": \"가을\",\n",
    "        \"겨울\": \"겨울\"\n",
    "    }\n",
    "    \n",
    "    for kr, season_val in season_map.items():\n",
    "        if kr in user_query.lower():\n",
    "            return {\"best_season\": {\"$eq\": season_val}}\n",
    "    \n",
    "    return None\n"
   ]
  },
  {
   "cell_type": "code",
   "execution_count": 20,
   "id": "e0003979",
   "metadata": {},
   "outputs": [
    {
     "name": "stdout",
     "output_type": "stream",
     "text": [
      "쿼리: 겨울용 향수 추천해줘\n",
      "리턴값: {'best_season': {'$eq': '겨울'}}\n",
      "\n",
      "쿼리: 여름에 어울리는 시원한 향수\n",
      "리턴값: {'best_season': {'$eq': '여름'}}\n",
      "\n",
      "쿼리: 봄 향수 추천\n",
      "리턴값: {'best_season': {'$eq': '봄'}}\n",
      "\n",
      "쿼리: 가을에 뿌리면 좋은 향수\n",
      "리턴값: {'best_season': {'$eq': '가을'}}\n",
      "\n",
      "쿼리: 남성용 향수 추천\n",
      "리턴값: None\n",
      "\n"
     ]
    }
   ],
   "source": [
    "def test_best_season_tool():\n",
    "    queries = [\n",
    "        \"겨울용 향수 추천해줘\",\n",
    "        \"여름에 어울리는 시원한 향수\",\n",
    "        \"봄 향수 추천\",\n",
    "        \"가을에 뿌리면 좋은 향수\",\n",
    "        \"남성용 향수 추천\"   # season 키워드 없음\n",
    "    ]\n",
    "    \n",
    "    for q in queries:\n",
    "        filter_result = best_season_tool(q)\n",
    "        print(f\"쿼리: {q}\")\n",
    "        print(f\"리턴값: {filter_result}\\n\")\n",
    "\n",
    "# 실행\n",
    "test_best_season_tool()\n"
   ]
  },
  {
   "cell_type": "code",
   "execution_count": 21,
   "id": "406c85fa",
   "metadata": {},
   "outputs": [
    {
     "name": "stdout",
     "output_type": "stream",
     "text": [
      "\n",
      "🔍 Query: 겨울용 향수 추천해줘\n",
      "- 세르주 루텐 페리유스몬 보터 오 드 퍼퓸 (P?rilleusement V?tre) [시즌:겨울 | 시간:야간용 | 성별:Unisex] 💰 365000.0원\n",
      "  🔗 https://www.bysuco.com/product/show/97158\n",
      "- 세르주 루텐 로르프린느 오 드 퍼퓸 (L'orpheline) [시즌:겨울 | 시간:야간용 | 성별:Unisex] 💰 115000.0원\n",
      "  🔗 https://www.bysuco.com/product/show/9791\n",
      "- 메종 마르지엘라 웬 더 레인 스탑스 오 드 뚜왈렛 (When the Rain Stops) [시즌:겨울 | 시간:주간용 | 성별:Unisex] 💰 151420.0원\n",
      "  🔗 https://www.bysuco.com/product/show/10460\n",
      "\n",
      "🔍 Query: 여름에 어울리는 향수 보여줘\n",
      "- 시슬리 코스메틱 오 드 깡빠뉴 오 드 뚜왈렛 (Eau de Campagne) [시즌:여름 | 시간:주간용 | 성별:Unisex] 💰 146700.0원\n",
      "  🔗 https://www.bysuco.com/product/show/24560\n",
      "- 에르메스 롬브르 드 메르베이 오 드 퍼퓸 (Lombre de Mervais) [시즌:여름 | 시간:주간용 | 성별:Unisex] 💰 175020.0원\n",
      "  🔗 https://www.bysuco.com/product/show/97117\n",
      "- 에르메스 롬브르 드 메르베이 오 드 퍼퓸 (Lombre de Mervais) [시즌:여름 | 시간:주간용 | 성별:Unisex] 💰 125000.0원\n",
      "  🔗 https://www.bysuco.com/product/show/97117\n",
      "\n",
      "🔍 Query: 남성용 향수 추천해줘\n",
      "- 조르지오 아르마니 오 뿌르 옴므 오 드 뚜왈렛 (Eau Pour Homme) [시즌:가을 | 시간:야간용 | 성별:Male] 💰 151420.0원\n",
      "  🔗 https://www.bysuco.com/product/show/693975\n",
      "- 조르지오 아르마니 오 드 뉘 오 드 뚜왈렛 (Eau de Nuits) [시즌:봄 | 시간:주간용 | 성별:Unisex] 💰 163220.0원\n",
      "  🔗 https://www.bysuco.com/product/show/693976\n",
      "- 펜할리곤스 포트레이트 더 트라제디 로드 조지 오 드 퍼퓸 (Portrait the Tragedy Lord George) [시즌:가을 | 시간:주간용 | 성별:Male] 💰 317800.0원\n",
      "  🔗 https://www.bysuco.com/product/show/9470\n"
     ]
    }
   ],
   "source": [
    "import os\n",
    "from dotenv import load_dotenv\n",
    "from pinecone import Pinecone\n",
    "from sentence_transformers import SentenceTransformer\n",
    "\n",
    "# 환경변수 로드\n",
    "load_dotenv()\n",
    "\n",
    "# Pinecone 초기화\n",
    "pc = Pinecone(api_key=os.getenv(\"PINECONE_API_KEY\"))\n",
    "index = pc.Index(\"perfume-search\")\n",
    "\n",
    "# 임베딩 모델\n",
    "model = SentenceTransformer(\"jhgan/ko-sroberta-multitask\")\n",
    "\n",
    "# -------------------------------\n",
    "# 1) best_season 필터 툴 함수\n",
    "# -------------------------------\n",
    "def best_season_tool(user_query: str):\n",
    "    season_map = {\n",
    "        \"봄\": \"봄\",\n",
    "        \"여름\": \"여름\",\n",
    "        \"가을\": \"가을\",\n",
    "        \"autumn\": \"가을\",\n",
    "        \"겨울\": \"겨울\"\n",
    "    }\n",
    "    for kr, season_val in season_map.items():\n",
    "        if kr in user_query.lower():\n",
    "            return {\"best_season\": {\"$eq\": season_val}}\n",
    "    return None\n",
    "\n",
    "# -------------------------------\n",
    "# 2) 검색 함수\n",
    "# -------------------------------\n",
    "def search_perfumes(user_query: str, top_k: int = 5):\n",
    "    # ① 필터 생성\n",
    "    season_filter = best_season_tool(user_query)\n",
    "    \n",
    "    # ② 쿼리 임베딩\n",
    "    query_emb = model.encode(user_query).tolist()\n",
    "    \n",
    "    # ③ Pinecone 검색\n",
    "    results = index.query(\n",
    "        vector=query_emb,\n",
    "        top_k=top_k,\n",
    "        include_metadata=True,\n",
    "        filter=season_filter if season_filter else None\n",
    "    )\n",
    "    \n",
    "    # ④ 결과 정리\n",
    "    perfumes = []\n",
    "    for m in results[\"matches\"]:\n",
    "        perfumes.append({\n",
    "            \"score\": m[\"score\"],\n",
    "            \"brand\": m[\"metadata\"].get(\"brand\", \"\"),\n",
    "            \"name\": m[\"metadata\"].get(\"name\", \"\"),\n",
    "            \"eng_name\": m[\"metadata\"].get(\"eng_name\", \"\"),\n",
    "            \"best_season\": m[\"metadata\"].get(\"best_season\", \"\"),\n",
    "            \"best_time\": m[\"metadata\"].get(\"best_time\", \"\"),\n",
    "            \"gender\": m[\"metadata\"].get(\"gender\", \"\"),\n",
    "            \"concentration\": m[\"metadata\"].get(\"concentration\", \"\"),\n",
    "            \"price\": m[\"metadata\"].get(\"price_krw\", 0),\n",
    "            \"detail_url\": m[\"metadata\"].get(\"detail_url\", \"\")\n",
    "        })\n",
    "    return perfumes\n",
    "\n",
    "# -------------------------------\n",
    "# 3) 테스트 실행\n",
    "# -------------------------------\n",
    "if __name__ == \"__main__\":\n",
    "    queries = [\n",
    "        \"겨울용 향수 추천해줘\",\n",
    "        \"여름에 어울리는 향수 보여줘\",\n",
    "        \"남성용 향수 추천해줘\"  # season 없음 → 필터 없이 검색\n",
    "    ]\n",
    "    \n",
    "    for q in queries:\n",
    "        print(f\"\\n🔍 Query: {q}\")\n",
    "        results = search_perfumes(q, top_k=3)\n",
    "        for r in results:\n",
    "            print(f\"- {r['brand']} {r['name']} ({r['eng_name']}) \"\n",
    "                  f\"[시즌:{r['best_season']} | 시간:{r['best_time']} | 성별:{r['gender']}] \"\n",
    "                  f\"💰 {r['price']}원\")\n",
    "            print(f\"  🔗 {r['detail_url']}\")\n"
   ]
  }
 ],
 "metadata": {
  "kernelspec": {
   "display_name": "final-env",
   "language": "python",
   "name": "python3"
  },
  "language_info": {
   "codemirror_mode": {
    "name": "ipython",
    "version": 3
   },
   "file_extension": ".py",
   "mimetype": "text/x-python",
   "name": "python",
   "nbconvert_exporter": "python",
   "pygments_lexer": "ipython3",
   "version": "3.12.11"
  }
 },
 "nbformat": 4,
 "nbformat_minor": 5
}
