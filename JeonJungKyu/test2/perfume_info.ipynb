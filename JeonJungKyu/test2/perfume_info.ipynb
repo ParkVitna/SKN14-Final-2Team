{
 "cells": [
  {
   "cell_type": "code",
   "execution_count": 4,
   "id": "861668df",
   "metadata": {},
   "outputs": [
    {
     "name": "stdout",
     "output_type": "stream",
     "text": [
      "['/', '그린', '너티', '라벤더', '락토닉', '럼', '레더', '로즈', '마린', '머스', '머스크', '머스키', '모스', '모시', '모씨', '바닐라', '바이올렛', '발사믹', '비즈왁스', '소트', '소프트', '솔티', '솝', '스모크', '스모키', '스위트', '스위티', '스트러스', '스파이', '스파이스', '스파이시', '시트러', '시트러스', '시패츌리', '시프러스', '아니스', '아로마', '아로마틱', '아몬드', '아이리스', '아쿠아틱', '알데하이드', '애니멀릭', '앰버', '얼', '얼디', '얼시', '얼씨', '엠버', '옐로우', '오드', '오우드', '오조닉', '우', '우드', '우디', '웜', '웜스파이스', '웜스파이시', '위스키', '윔', '체리', '카라멜', '카카오', '커피', '코코넛', '타바코', '토바코', '튜베로즈', '트로피칼', '파우더', '파우더리', '패출리', '패츌리', '페출리', '푸루티', '푸르티', '프레', '프레쉬', '프레시', '프루', '프루트', '프루티', '플라워', '플로', '플로랄', '플로럴', '허니', '허벌', '허브', '화이트', '화이트플로랄', '흘로랄']\n",
      "총 개수: 93\n"
     ]
    }
   ],
   "source": [
    "import pandas as pd, json, re\n",
    "\n",
    "PATH = r\"C:\\Team2-final\\JeonJungKyu\\test2\\perfume_final (1).csv\"\n",
    "\n",
    "try:\n",
    "    df = pd.read_csv(PATH, encoding=\"utf-8-sig\")\n",
    "except UnicodeDecodeError:\n",
    "    df = pd.read_csv(PATH, encoding=\"cp949\")\n",
    "\n",
    "unique = set()\n",
    "for v in df[\"main_accords\"].dropna().astype(str):\n",
    "    v = v.strip()\n",
    "    # JSON 배열로 파싱 시도\n",
    "    try:\n",
    "        arr = json.loads(v)\n",
    "    except json.JSONDecodeError:\n",
    "        # JSON이 아니면 구분자 정리 후 분리\n",
    "        v = re.sub(r\"[,\\[\\]\\\"]\", \" \", v)\n",
    "        arr = [w for w in v.split() if w]\n",
    "    unique.update(map(str.strip, arr))\n",
    "\n",
    "print(sorted(unique))\n",
    "print(\"총 개수:\", len(unique))\n",
    "\n",
    "# (선택) 파일로 저장\n",
    "pd.Series(sorted(unique), name=\"unique_main_accord\").to_csv(\n",
    "    \"unique_main_accords.csv\", index=False, encoding=\"utf-8-sig\"\n",
    ")\n"
   ]
  },
  {
   "cell_type": "code",
   "execution_count": 5,
   "id": "f59b88d8",
   "metadata": {},
   "outputs": [
    {
     "name": "stdout",
     "output_type": "stream",
     "text": [
      "Top 10 main_accords:\n",
      "플로랄: 288\n",
      "우디: 284\n",
      "시트러스: 234\n",
      "스파이시: 201\n",
      "아로마틱: 177\n",
      "화이트: 147\n",
      "프레쉬: 142\n",
      "파우더리: 110\n",
      "로즈: 99\n",
      "스위트: 97\n",
      "\n",
      "----\n",
      "  main_accord  count  percent\n",
      "0         플로랄    288     10.7\n",
      "1          우디    284     10.5\n",
      "2        시트러스    234      8.7\n",
      "3        스파이시    201      7.4\n",
      "4        아로마틱    177      6.6\n",
      "5         화이트    147      5.4\n",
      "6         프레쉬    142      5.3\n",
      "7        파우더리    110      4.1\n",
      "8          로즈     99      3.7\n",
      "9         스위트     97      3.6\n",
      "\n",
      "Saved -> main_accords_top10.csv\n"
     ]
    }
   ],
   "source": [
    "import pandas as pd, json, re\n",
    "from collections import Counter\n",
    "\n",
    "# ★ CSV 경로 수정\n",
    "PATH = r\"C:\\Team2-final\\JeonJungKyu\\test2\\perfume_final (1).csv\"\n",
    "\n",
    "# 인코딩 자동 시도\n",
    "for enc in (\"utf-8-sig\", \"cp949\"):\n",
    "    try:\n",
    "        df = pd.read_csv(PATH, encoding=enc)\n",
    "        break\n",
    "    except UnicodeDecodeError:\n",
    "        continue\n",
    "\n",
    "def parse_accords(cell):\n",
    "    \"\"\"JSON 배열 우선 파싱, 실패 시 구분자(콤마/공백/슬래시) 기준 분리\"\"\"\n",
    "    if pd.isna(cell):\n",
    "        return []\n",
    "    text = str(cell).strip()\n",
    "    # 1) JSON 배열 시도\n",
    "    try:\n",
    "        arr = json.loads(text)\n",
    "        if isinstance(arr, list):\n",
    "            return [str(x).strip() for x in arr if str(x).strip()]\n",
    "    except Exception:\n",
    "        pass\n",
    "    # 2) 비JSON 문자열 fallback\n",
    "    text = re.sub(r'[\\[\\]\"]', '', text)\n",
    "    parts = re.split(r'[,\\s/]+', text)  # 콤마/공백/슬래시 분리\n",
    "    return [p for p in parts if p]\n",
    "\n",
    "# 전체 토큰 수집\n",
    "all_acc = []\n",
    "for v in df[\"main_accords\"].fillna(\"\"):\n",
    "    all_acc.extend(parse_accords(v))\n",
    "\n",
    "# 빈도 계산 → Top 10\n",
    "cnt = Counter(all_acc)\n",
    "top10 = cnt.most_common(10)\n",
    "\n",
    "print(\"Top 10 main_accords:\")\n",
    "for name, c in top10:\n",
    "    print(f\"{name}: {c}\")\n",
    "\n",
    "# (선택) DataFrame으로 보고/저장\n",
    "top10_df = pd.DataFrame(top10, columns=[\"main_accord\", \"count\"])\n",
    "top10_df[\"percent\"] = (top10_df[\"count\"] / len(all_acc) * 100).round(1)\n",
    "print(\"\\n----\")\n",
    "print(top10_df)\n",
    "\n",
    "top10_df.to_csv(\"main_accords_top10.csv\", index=False, encoding=\"utf-8-sig\")\n",
    "print(\"\\nSaved -> main_accords_top10.csv\")\n"
   ]
  }
 ],
 "metadata": {
  "kernelspec": {
   "display_name": "final-env",
   "language": "python",
   "name": "python3"
  },
  "language_info": {
   "codemirror_mode": {
    "name": "ipython",
    "version": 3
   },
   "file_extension": ".py",
   "mimetype": "text/x-python",
   "name": "python",
   "nbconvert_exporter": "python",
   "pygments_lexer": "ipython3",
   "version": "3.12.11"
  }
 },
 "nbformat": 4,
 "nbformat_minor": 5
}
