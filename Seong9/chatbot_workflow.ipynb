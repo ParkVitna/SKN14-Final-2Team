{
 "cells": [
  {
   "cell_type": "markdown",
   "id": "0bfd2ba0",
   "metadata": {},
   "source": [
    "flowchart TB\n",
    "  %% Lanes\n",
    "  subgraph L1[Client (Chat UI)]\n",
    "    U[사용자 입력<br/>예: '시원한 바다향 10만원대 남자 향수']\n",
    "    UI[챗 UI<br/>세션/컨텍스트 유지]\n",
    "    U --> UI\n",
    "  end\n",
    "\n",
    "  subgraph L2[Superagent Assistant (Orchestration)]\n",
    "    P[LLM 파싱 (intent/slots)<br/>→ main_accord, price, brand, others, confidence]\n",
    "    R[라우팅 정책<br/>sim < 임계치 → 키워드 확장]\n",
    "    S1[1차 검색<br/>임베딩 유사도 + BM25]\n",
    "    KW[키워드 확장 (벡터DB)<br/>accord_tag 상위 2~3]\n",
    "    S2[재검색 (확장 쿼리)<br/>태그 부스트]\n",
    "    RK[필터 & 랭킹<br/>가격·브랜드·개인화 반영 → Top3]\n",
    "    PRICE[가격 조회<br/>Price Service (실시간 API+캐시)]\n",
    "    RESP[응답 생성 (LLM 템플릿)<br/>Top3 설명 + 상세 링크 제공]\n",
    "\n",
    "    UI --> P --> R\n",
    "    R -->|유사도 양호| S1\n",
    "    R -->|유사도 낮음| KW --> S2\n",
    "    S1 --> RK\n",
    "    S2 --> RK\n",
    "    RK --> PRICE --> RESP\n",
    "  end\n",
    "\n",
    "  subgraph L3[Backend Services & Data]\n",
    "    DB[(Perfume DB<br/>설명/링크/임베딩)]\n",
    "    VEC[(Vector DB<br/>키워드 사전 (accords))]\n",
    "    CACHE[(Price Cache DB<br/>TTL 저장)]\n",
    "    PROV[(가격 제공자 API<br/>Amazon, Naver 등)]\n",
    "\n",
    "    DB -. 조회 .- S1\n",
    "    VEC -. 조회 .- KW\n",
    "    PRICE -. 캐시조회/저장 .- CACHE\n",
    "    PRICE -. 외부호출 .- PROV\n",
    "  end\n",
    "\n",
    "  %% Logging & Feedback (횡단)\n",
    "  LOG[로깅<br/>쿼리/후보/스코어/응답 기록]\n",
    "  FB[피드백 저장<br/>좋아요/싫어요/즐겨찾기 → 선호 벡터 업데이트]\n",
    "\n",
    "  P -. 기록 .- LOG\n",
    "  S1 -. 기록 .- LOG\n",
    "  S2 -. 기록 .- LOG\n",
    "  RK -. 기록 .- LOG\n",
    "  RESP -. 기록 .- LOG\n",
    "\n",
    "  RESP --> UI\n",
    "  UI --> FB --> RK\n"
   ]
  },
  {
   "cell_type": "markdown",
   "id": "3aedcbee",
   "metadata": {},
   "source": []
  }
 ],
 "metadata": {
  "language_info": {
   "name": "python"
  }
 },
 "nbformat": 4,
 "nbformat_minor": 5
}
