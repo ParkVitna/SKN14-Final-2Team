{
 "cells": [
  {
   "cell_type": "code",
   "execution_count": 2,
   "id": "03bc1b00",
   "metadata": {
    "vscode": {
     "languageId": "plaintext"
    }
   },
   "outputs": [
    {
     "name": "stdout",
     "output_type": "stream",
     "text": [
      "✅ 저장 완료: hf_perfumes_mapped_ko_clean_stopwords_saved.csv\n",
      "                                          description  \\\n",
      "0   A modern aroma, ideal for urban men and that h...   \n",
      "1   Désinvolte is a generous bouquet of white flow...   \n",
      "2   Day 1, 5:45 am. \" evokes a joyous, exciting an...   \n",
      "3   Confidence owns the night. A sexy energy that ...   \n",
      "4   32 is a rich perfume, enhanced by a bouquet of...   \n",
      "5   Inspired by Gothicism (circa 1144), Opus 1144 ...   \n",
      "6   Surrender your senses and allow Sans Voir to g...   \n",
      "7   Rose 01 is a floral fantasy that transports yo...   \n",
      "8   Blu di Roma, a romantic, intense, and fresh fr...   \n",
      "9   An intriguing fragrance that is sure to make a...   \n",
      "10  Issey Miyake knows how to astonish with the ob...   \n",
      "11  Love is an epidermal tale and the first memory...   \n",
      "12  Opens on citrus notes, while Mediterranean fru...   \n",
      "13           A lively, warm scent as sunny as summer.   \n",
      "14  Celebrate 20 years of Rem with Rem L'Acqua! Im...   \n",
      "\n",
      "                                    description_clean  \n",
      "0   a modern aroma ideal for urban men and that hi...  \n",
      "1   d sinvolte is a generous bouquet of white flow...  \n",
      "2   day am evokes a joyous exciting and  free holi...  \n",
      "3   confidence owns the night a sexy energy that c...  \n",
      "4   is a rich perfume enhanced by a bouquet of flo...  \n",
      "5   inspired by gothicism circa opus is a monument...  \n",
      "6   surrender your senses and allow sans voir to g...  \n",
      "7   rose is a floral fantasy that transports you t...  \n",
      "8   blu di roma a romantic intense and   fragrance...  \n",
      "9   an intriguing fragrance that is sure to make a...  \n",
      "10  knows how to astonish with the   and provoke w...  \n",
      "11  love is an epidermal tale and the first  ry of...  \n",
      "12  opens on citrus notes while mediterranean frui...  \n",
      "13             a lively warm scent as sunny as summer  \n",
      "14  celebrate years of rem with rem l acqua imagin...  \n"
     ]
    }
   ],
   "source": [
    "import re\n",
    "import pandas as pd\n",
    "\n",
    "# === 1. CSV 불러오기 ===\n",
    "INPUT_PATH = \"hf_perfumes_mapped_ko.csv\"\n",
    "OUTPUT_PATH = \"hf_perfumes_mapped_ko_clean_stopwords_saved.csv\"\n",
    "\n",
    "df = pd.read_csv(INPUT_PATH, encoding=\"utf-8-sig\")\n",
    "\n",
    "# === 2. 브랜드 & 향수명 리스트 추출 ===\n",
    "brand_words = df[\"brand\"].dropna().unique().tolist()\n",
    "perfume_words = df[\"name\"].dropna().unique().tolist() if \"name\" in df.columns else []\n",
    "\n",
    "brand_words = [b.lower() for b in brand_words]\n",
    "perfume_words = [p.lower() for p in perfume_words]\n",
    "\n",
    "# === 3. 제거 단어 사전 ===\n",
    "meta_words = [\n",
    "    # 작품/광고성\n",
    "    \"masterpiece\", \"bestseller\", \"iconic\", \"legendary\", \"timeless\",\n",
    "    \"classic\", \"signature\", \"exclusive\", \"limited edition\", \"collector\",\n",
    "    \"special edition\", \"best\", \"top\", \"famous\", \"well-known\", \"popular\",\n",
    "    \"beloved\", \"favorite\", \"unique\", \"remarkable\", \"extraordinary\",\n",
    "\n",
    "    # 출시/제작 정보\n",
    "    \"created by\", \"designed by\", \"crafted\", \"from the house of\",\n",
    "    \"house of\", \"brand\", \"launched\", \"introduced\",\n",
    "    \"released\", \"since\", \"established\", \"heritage\",\n",
    "\n",
    "    # 마케팅 용어\n",
    "    \"luxury\", \"prestigious\", \"premium\", \"elegant\",\n",
    "    \"sophisticated\", \"refined\", \"high quality\", \"finest\", \"award-winning\",\n",
    "]\n",
    "\n",
    "# === 4. 전처리 함수 ===\n",
    "def clean_description(text: str) -> str:\n",
    "    if pd.isna(text):\n",
    "        return \"\"\n",
    "\n",
    "    text = text.lower()\n",
    "    text = re.sub(r\"[^a-z\\s]\", \" \", text)      # 알파벳만 남기고 숫자 제거\n",
    "    text = re.sub(r\"\\s+\", \" \", text).strip()   # 중복 공백 제거\n",
    "\n",
    "    # meta_words, 브랜드명, 향수명 제거\n",
    "    for w in (meta_words + brand_words + perfume_words):\n",
    "        if w:\n",
    "            text = text.replace(w, \" \")\n",
    "\n",
    "    return text.strip()\n",
    "\n",
    "# === 5. 전처리 적용 ===\n",
    "df[\"description_clean\"] = df[\"description\"].astype(str).apply(clean_description)\n",
    "\n",
    "# === 6. 저장 ===\n",
    "df.to_csv(OUTPUT_PATH, index=False, encoding=\"utf-8-sig\")\n",
    "\n",
    "print(f\"✅ 저장 완료: {OUTPUT_PATH}\")\n",
    "print(df[[\"description\", \"description_clean\"]].head(15))\n"
   ]
  },
  {
   "cell_type": "code",
   "execution_count": null,
   "id": "af4437af-0f9e-4a04-a7aa-13a0b94f8d9c",
   "metadata": {},
   "outputs": [],
   "source": []
  }
 ],
 "metadata": {
  "kernelspec": {
   "display_name": "Python 3 (ipykernel)",
   "language": "python",
   "name": "python3"
  },
  "language_info": {
   "codemirror_mode": {
    "name": "ipython",
    "version": 3
   },
   "file_extension": ".py",
   "mimetype": "text/x-python",
   "name": "python",
   "nbconvert_exporter": "python",
   "pygments_lexer": "ipython3",
   "version": "3.11.11"
  }
 },
 "nbformat": 4,
 "nbformat_minor": 5
}
