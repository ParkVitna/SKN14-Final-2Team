{
 "cells": [
  {
   "cell_type": "code",
   "execution_count": 5,
   "id": "03bc1b00",
   "metadata": {
    "vscode": {
     "languageId": "plaintext"
    }
   },
   "outputs": [
    {
     "name": "stderr",
     "output_type": "stream",
     "text": [
      "[nltk_data] Downloading package stopwords to /root/nltk_data...\n",
      "[nltk_data]   Unzipping corpora/stopwords.zip.\n"
     ]
    },
    {
     "name": "stdout",
     "output_type": "stream",
     "text": [
      "✅ 저장 완료: hf_perfumes_mapped_ko_clean.csv\n",
      "                                          description  \\\n",
      "0   A modern aroma, ideal for urban men and that h...   \n",
      "1   Désinvolte is a generous bouquet of white flow...   \n",
      "2   Day 1, 5:45 am. \" evokes a joyous, exciting an...   \n",
      "3   Confidence owns the night. A sexy energy that ...   \n",
      "4   32 is a rich perfume, enhanced by a bouquet of...   \n",
      "5   Inspired by Gothicism (circa 1144), Opus 1144 ...   \n",
      "6   Surrender your senses and allow Sans Voir to g...   \n",
      "7   Rose 01 is a floral fantasy that transports yo...   \n",
      "8   Blu di Roma, a romantic, intense, and fresh fr...   \n",
      "9   An intriguing fragrance that is sure to make a...   \n",
      "10  Issey Miyake knows how to astonish with the ob...   \n",
      "11  Love is an epidermal tale and the first memory...   \n",
      "12  Opens on citrus notes, while Mediterranean fru...   \n",
      "13           A lively, warm scent as sunny as summer.   \n",
      "14  Celebrate 20 years of Rem with Rem L'Acqua! Im...   \n",
      "\n",
      "                                    description_clean  \n",
      "0   modern ideal urban men highlights strengths ev...  \n",
      "1   sinvolte generous bouquet white flowers strong...  \n",
      "2   day evokes joyous exciting free holiday atmosp...  \n",
      "3   confidence owns night sexy energy felt minute ...  \n",
      "4   rich enhanced bouquet flowers citrus notes war...  \n",
      "5   inspired gothicism circa opus monument intrica...  \n",
      "6   surrender senses allow sans voir guide transce...  \n",
      "7   rose floral fantasy transports mythical garden...  \n",
      "8   blu roma romantic intense inspired splendor bl...  \n",
      "9                     intriguing sure make impression  \n",
      "10  knows astonish provoke simplicity igo another ...  \n",
      "11  love epidermal tale first skin velvety insolen...  \n",
      "12  opens citrus notes mediterranean fruits musky ...  \n",
      "13                           lively warm sunny summer  \n",
      "14  celebrate years rem rem acqua imagine feels li...  \n"
     ]
    }
   ],
   "source": [
    "import re\n",
    "import pandas as pd\n",
    "import nltk\n",
    "from nltk.corpus import stopwords as nltk_stopwords\n",
    "\n",
    "# === 1. NLTK Stopwords 다운로드 ===\n",
    "nltk.download(\"stopwords\")\n",
    "stopwords = nltk_stopwords.words(\"english\")  # 영어 전체 stopwords (약 180개)\n",
    "\n",
    "# === 2. CSV 불러오기 ===\n",
    "INPUT_PATH = \"hf_perfumes_mapped_ko.csv\"\n",
    "OUTPUT_PATH = \"hf_perfumes_mapped_ko_clean.csv\"\n",
    "\n",
    "df = pd.read_csv(INPUT_PATH, encoding=\"utf-8-sig\")\n",
    "\n",
    "# === 3. 브랜드 & 향수명 리스트 추출 ===\n",
    "brand_words = df[\"brand\"].dropna().unique().tolist()\n",
    "perfume_words = df[\"name\"].dropna().unique().tolist() if \"name\" in df.columns else []\n",
    "\n",
    "brand_words = [b.lower() for b in brand_words]\n",
    "perfume_words = [p.lower() for p in perfume_words]\n",
    "\n",
    "# === 4. 제거 단어 사전 ===\n",
    "meta_words = [\n",
    "    # 작품/광고성\n",
    "    \"masterpiece\", \"bestseller\", \"iconic\", \"legendary\", \"timeless\",\n",
    "    \"classic\", \"signature\", \"exclusive\", \"limited edition\", \"collector\",\n",
    "    \"special edition\", \"best\", \"top\", \"famous\", \"well-known\", \"popular\",\n",
    "    \"beloved\", \"favorite\", \"unique\", \"remarkable\", \"extraordinary\",\n",
    "\n",
    "    # 출시/제작 정보\n",
    "    \"created by\", \"designed by\", \"made by\", \"crafted\", \"from the house of\",\n",
    "    \"house of\", \"brand\", \"line\", \"series\", \"launched\", \"introduced\",\n",
    "    \"released\", \"since\", \"established\", \"heritage\",\n",
    "\n",
    "    # 마케팅 용어\n",
    "    \"luxury\", \"prestigious\", \"premium\", \"elegant\",\n",
    "    \"sophisticated\", \"refined\", \"high quality\", \"finest\", \"award-winning\",\n",
    "\n",
    "    # 일반적인 향수 단어 (노이즈 가능)\n",
    "    \"perfume\", \"fragrance\", \"scent\", \"aroma\", \"odor\", \"smell\"\n",
    "]\n",
    "\n",
    "# === 5. 전처리 함수 ===\n",
    "def clean_description(text: str) -> str:\n",
    "    if pd.isna(text):\n",
    "        return \"\"\n",
    "\n",
    "    text = text.lower()\n",
    "    text = re.sub(r\"[^a-z\\s]\", \" \", text)      # 알파벳만 남기고 숫자 제거\n",
    "    text = re.sub(r\"\\s+\", \" \", text).strip()   # 중복 공백 제거\n",
    "\n",
    "    # 1) meta_words, 브랜드명, 향수명 → 부분 문자열도 바로 제거\n",
    "    for w in (meta_words + brand_words + perfume_words):\n",
    "        if w:\n",
    "            text = text.replace(w, \" \")\n",
    "\n",
    "    # 2) stopwords (NLTK full) → 반드시 단어 경계 기반 제거\n",
    "    for w in stopwords:\n",
    "        pattern = r\"\\b\" + re.escape(w) + r\"\\b\"\n",
    "        text = re.sub(pattern, \" \", text)\n",
    "\n",
    "    # 3) 토큰 분리 후 1~2 글자 단어 제거\n",
    "    tokens = [t for t in text.split() if len(t) > 2]\n",
    "\n",
    "    return \" \".join(tokens)\n",
    "\n",
    "# === 6. 전처리 적용 ===\n",
    "df[\"description_clean\"] = df[\"description\"].astype(str).apply(clean_description)\n",
    "\n",
    "# === 7. 저장 ===\n",
    "df.to_csv(OUTPUT_PATH, index=False, encoding=\"utf-8-sig\")\n",
    "\n",
    "print(f\"✅ 저장 완료: {OUTPUT_PATH}\")\n",
    "print(df[[\"description\", \"description_clean\"]].head(15))\n"
   ]
  },
  {
   "cell_type": "code",
   "execution_count": 4,
   "id": "913544a7-8e0b-45fa-a4cf-627acd93adf6",
   "metadata": {},
   "outputs": [
    {
     "name": "stdout",
     "output_type": "stream",
     "text": [
      "Collecting nltk\n",
      "  Downloading nltk-3.9.1-py3-none-any.whl.metadata (2.9 kB)\n",
      "Requirement already satisfied: click in /usr/local/lib/python3.11/dist-packages (from nltk) (8.2.1)\n",
      "Requirement already satisfied: joblib in /usr/local/lib/python3.11/dist-packages (from nltk) (1.5.2)\n",
      "Requirement already satisfied: regex>=2021.8.3 in /usr/local/lib/python3.11/dist-packages (from nltk) (2025.7.34)\n",
      "Requirement already satisfied: tqdm in /usr/local/lib/python3.11/dist-packages (from nltk) (4.67.1)\n",
      "Downloading nltk-3.9.1-py3-none-any.whl (1.5 MB)\n",
      "\u001b[2K   \u001b[90m━━━━━━━━━━━━━━━━━━━━━━━━━━━━━━━━━━━━━━━━\u001b[0m \u001b[32m1.5/1.5 MB\u001b[0m \u001b[31m175.2 MB/s\u001b[0m eta \u001b[36m0:00:00\u001b[0m\n",
      "\u001b[?25hInstalling collected packages: nltk\n",
      "Successfully installed nltk-3.9.1\n",
      "\u001b[33mWARNING: Running pip as the 'root' user can result in broken permissions and conflicting behaviour with the system package manager, possibly rendering your system unusable. It is recommended to use a virtual environment instead: https://pip.pypa.io/warnings/venv. Use the --root-user-action option if you know what you are doing and want to suppress this warning.\u001b[0m\u001b[33m\n",
      "\u001b[0m\n",
      "\u001b[1m[\u001b[0m\u001b[34;49mnotice\u001b[0m\u001b[1;39;49m]\u001b[0m\u001b[39;49m A new release of pip is available: \u001b[0m\u001b[31;49m25.0.1\u001b[0m\u001b[39;49m -> \u001b[0m\u001b[32;49m25.2\u001b[0m\n",
      "\u001b[1m[\u001b[0m\u001b[34;49mnotice\u001b[0m\u001b[1;39;49m]\u001b[0m\u001b[39;49m To update, run: \u001b[0m\u001b[32;49mpython -m pip install --upgrade pip\u001b[0m\n"
     ]
    }
   ],
   "source": [
    "!pip install nltk"
   ]
  }
 ],
 "metadata": {
  "kernelspec": {
   "display_name": "Python 3 (ipykernel)",
   "language": "python",
   "name": "python3"
  },
  "language_info": {
   "codemirror_mode": {
    "name": "ipython",
    "version": 3
   },
   "file_extension": ".py",
   "mimetype": "text/x-python",
   "name": "python",
   "nbconvert_exporter": "python",
   "pygments_lexer": "ipython3",
   "version": "3.11.11"
  }
 },
 "nbformat": 4,
 "nbformat_minor": 5
}
