{
 "cells": [
  {
   "cell_type": "code",
   "execution_count": 1,
   "id": "a1fd24da",
   "metadata": {},
   "outputs": [],
   "source": [
    "import pandas as pd\n",
    "\n",
    "# === 1) 데이터 로드 ===\n",
    "INPUT_CSV = \"perfume_final_gender_completed_full.csv\"\n",
    "OUTPUT_CSV = \"perfume_final_merged.csv\"\n",
    "\n",
    "df = pd.read_csv(INPUT_CSV, encoding=\"utf-8-sig\")\n"
   ]
  },
  {
   "cell_type": "code",
   "execution_count": 4,
   "id": "f6b7f5cb",
   "metadata": {},
   "outputs": [
    {
     "name": "stdout",
     "output_type": "stream",
     "text": [
      "<class 'pandas.core.frame.DataFrame'>\n",
      "RangeIndex: 1395 entries, 0 to 1394\n",
      "Data columns (total 15 columns):\n",
      " #   Column           Non-Null Count  Dtype \n",
      "---  ------           --------------  ----- \n",
      " 0   brand            1395 non-null   object\n",
      " 1   name             1395 non-null   object\n",
      " 2   eng_name         1395 non-null   object\n",
      " 3   size_ml          1395 non-null   int64 \n",
      " 4   detail_url       1395 non-null   object\n",
      " 5   concentration    1395 non-null   object\n",
      " 6   main_accords     1395 non-null   object\n",
      " 7   top_notes        1195 non-null   object\n",
      " 8   middle_notes     1192 non-null   object\n",
      " 9   base_notes       1195 non-null   object\n",
      " 10  description      1395 non-null   object\n",
      " 11  notes_score      1389 non-null   object\n",
      " 12  season_score     1395 non-null   object\n",
      " 13  day_night_score  1395 non-null   object\n",
      " 14  gender           1395 non-null   object\n",
      "dtypes: int64(1), object(14)\n",
      "memory usage: 163.6+ KB\n"
     ]
    }
   ],
   "source": [
    "\n",
    "# === 2) 가격 컬럼 제거 ===\n",
    "if \"price_krw\" in df.columns:\n",
    "    df = df.drop(columns=[\"price_krw\"])\n",
    "\n",
    "df.info()"
   ]
  },
  {
   "cell_type": "code",
   "execution_count": 6,
   "id": "0df80a76",
   "metadata": {},
   "outputs": [
    {
     "name": "stdout",
     "output_type": "stream",
     "text": [
      "✅ 저장 완료: perfume_final_merged.csv, 총 802행\n"
     ]
    },
    {
     "name": "stderr",
     "output_type": "stream",
     "text": [
      "C:\\Users\\Playdata2\\AppData\\Local\\Temp\\ipykernel_28196\\4059444591.py:13: FutureWarning: DataFrameGroupBy.apply operated on the grouping columns. This behavior is deprecated, and in a future version of pandas the grouping columns will be excluded from the operation. Either pass `include_groups=False` to exclude the groupings or explicitly select the grouping columns after groupby to silence this warning.\n",
      "  merged_df = df.groupby([\"brand\", \"name\"], as_index=False).apply(merge_group)\n"
     ]
    }
   ],
   "source": [
    "\n",
    "# === 3) 브랜드 + 향수명 기준 그룹핑 ===\n",
    "# 용량(sizes) 컬럼이 있다고 가정\n",
    "def merge_group(group):\n",
    "    # 대표 행: 첫 번째 행 사용\n",
    "    base = group.iloc[0].copy()\n",
    "    \n",
    "    # sizes를 리스트로 병합\n",
    "    sizes = group[\"size_ml\"].dropna().unique().tolist() if \"size_ml\" in group else []\n",
    "    base[\"sizes\"] = sizes\n",
    "    \n",
    "    return base\n",
    "\n",
    "merged_df = df.groupby([\"brand\", \"name\"], as_index=False).apply(merge_group)\n",
    "\n",
    "# === 4) 인덱스 정리 ===\n",
    "merged_df.reset_index(drop=True, inplace=True)\n",
    "\n",
    "# === 5) 저장 ===\n",
    "merged_df.to_csv(OUTPUT_CSV, index=False, encoding=\"utf-8-sig\")\n",
    "\n",
    "print(f\"✅ 저장 완료: {OUTPUT_CSV}, 총 {len(merged_df)}행\")\n"
   ]
  },
  {
   "cell_type": "code",
   "execution_count": 7,
   "id": "22909032",
   "metadata": {},
   "outputs": [
    {
     "name": "stdout",
     "output_type": "stream",
     "text": [
      "<class 'pandas.core.frame.DataFrame'>\n",
      "RangeIndex: 802 entries, 0 to 801\n",
      "Data columns (total 16 columns):\n",
      " #   Column           Non-Null Count  Dtype \n",
      "---  ------           --------------  ----- \n",
      " 0   brand            802 non-null    object\n",
      " 1   name             802 non-null    object\n",
      " 2   eng_name         802 non-null    object\n",
      " 3   size_ml          802 non-null    int64 \n",
      " 4   detail_url       802 non-null    object\n",
      " 5   concentration    802 non-null    object\n",
      " 6   main_accords     802 non-null    object\n",
      " 7   top_notes        684 non-null    object\n",
      " 8   middle_notes     682 non-null    object\n",
      " 9   base_notes       684 non-null    object\n",
      " 10  description      802 non-null    object\n",
      " 11  notes_score      801 non-null    object\n",
      " 12  season_score     802 non-null    object\n",
      " 13  day_night_score  802 non-null    object\n",
      " 14  gender           802 non-null    object\n",
      " 15  sizes            802 non-null    object\n",
      "dtypes: int64(1), object(15)\n",
      "memory usage: 100.4+ KB\n"
     ]
    }
   ],
   "source": [
    "df_1 = pd.read_csv(\"perfume_final_merged.csv\")\n",
    "\n",
    "df_1.info()"
   ]
  }
 ],
 "metadata": {
  "kernelspec": {
   "display_name": "scentlab_env",
   "language": "python",
   "name": "python3"
  },
  "language_info": {
   "codemirror_mode": {
    "name": "ipython",
    "version": 3
   },
   "file_extension": ".py",
   "mimetype": "text/x-python",
   "name": "python",
   "nbconvert_exporter": "python",
   "pygments_lexer": "ipython3",
   "version": "3.12.11"
  }
 },
 "nbformat": 4,
 "nbformat_minor": 5
}
