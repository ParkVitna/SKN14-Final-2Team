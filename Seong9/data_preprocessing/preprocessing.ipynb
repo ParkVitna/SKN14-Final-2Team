{
 "cells": [
  {
   "cell_type": "code",
   "execution_count": null,
   "id": "ed1c1ddf",
   "metadata": {
    "vscode": {
     "languageId": "plaintext"
    }
   },
   "outputs": [],
   "source": [
    "import re\n",
    "import pandas as pd"
   ]
  },
  {
   "cell_type": "code",
   "execution_count": null,
   "id": "03bc1b00",
   "metadata": {
    "vscode": {
     "languageId": "plaintext"
    }
   },
   "outputs": [],
   "source": [
    "df = pd.read_csv(\"hf_perfumes_mapped_ko.csv\", encoding=\"utf-8-sig\")\n",
    "\n",
    "def clean_description(text: str) -> str:\n",
    "    if pd.isna(text):\n",
    "        return \"\"\n",
    "    # 1. 소문자 변환\n",
    "    text = text.lower()\n",
    "    \n",
    "    # 2. HTML 태그/특수문자/이모지 제거\n",
    "    text = re.sub(r\"<[^>]+>\", \" \", text)   # HTML 태그\n",
    "    text = re.sub(r\"[^a-z\\s]\", \" \", text)  # 영어 알파벳, 공백만 남기기\n",
    "    text = re.sub(r\"\\s+\", \" \", text).strip()\n",
    "    \n",
    "    # 3. 메타/광고성 표현 제거\n",
    "    meta_words = [\n",
    "        \"masterpiece\", \"bestseller\", \"iconic\", \"signature\", \"created by\", \"launched\", \n",
    "        \"introduced\", \"house of\", \"famous\", \"popular\", \"legendary\", \"master\", \"art\",\n",
    "        \"perfume\", \"fragrance\", \"scent\", \"smell\"  # 너무 일반적 단어라 모델 헷갈릴 수 있음\n",
    "    ]\n",
    "    for w in meta_words:\n",
    "        text = text.replace(w, \" \")\n",
    "    \n",
    "    # 4. 짧은 문장 필터링 (토큰 수 3 미만이면 제거)\n",
    "    tokens = text.split()\n",
    "    if len(tokens) < 3:\n",
    "        return \"\"\n",
    "    \n",
    "    return \" \".join(tokens)\n",
    "\n",
    "# df[\"description_clean\"] = df[\"description\"].apply(clean_description)\n",
    "\n",
    "# 전처리 확인\n",
    "# print(df[[\"description\", \"description_clean\"]].head(10))"
   ]
  }
 ],
 "metadata": {
  "language_info": {
   "name": "python"
  }
 },
 "nbformat": 4,
 "nbformat_minor": 5
}
