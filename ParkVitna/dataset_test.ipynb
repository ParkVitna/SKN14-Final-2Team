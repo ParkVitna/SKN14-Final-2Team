{
 "cells": [
  {
   "cell_type": "code",
   "execution_count": 2,
   "outputs": [
    {
     "name": "stdout",
     "output_type": "stream",
     "text": [
      "Collecting thefuzz[speedup]\r\n",
      "  Downloading thefuzz-0.22.1-py3-none-any.whl.metadata (3.9 kB)\r\n",
      "Collecting rapidfuzz<4.0.0,>=3.0.0 (from thefuzz[speedup])\r\n",
      "  Downloading rapidfuzz-3.13.0-cp39-cp39-macosx_11_0_arm64.whl.metadata (12 kB)\r\n",
      "Downloading thefuzz-0.22.1-py3-none-any.whl (8.2 kB)\r\n",
      "Downloading rapidfuzz-3.13.0-cp39-cp39-macosx_11_0_arm64.whl (1.5 MB)\r\n",
      "\u001B[2K   \u001B[90m━━━━━━━━━━━━━━━━━━━━━━━━━━━━━━━━━━━━━━━━\u001B[0m \u001B[32m1.5/1.5 MB\u001B[0m \u001B[31m5.1 MB/s\u001B[0m eta \u001B[36m0:00:00\u001B[0ma \u001B[36m0:00:01\u001B[0m\r\n",
      "\u001B[?25hInstalling collected packages: rapidfuzz, thefuzz\r\n",
      "\u001B[2K   \u001B[90m━━━━━━━━━━━━━━━━━━━━━━━━━━━━━━━━━━━━━━━━\u001B[0m \u001B[32m2/2\u001B[0m [thefuzz]\r\n",
      "\u001B[1A\u001B[2KSuccessfully installed rapidfuzz-3.13.0 thefuzz-0.22.1\r\n",
      "\r\n",
      "\u001B[1m[\u001B[0m\u001B[34;49mnotice\u001B[0m\u001B[1;39;49m]\u001B[0m\u001B[39;49m A new release of pip is available: \u001B[0m\u001B[31;49m25.1.1\u001B[0m\u001B[39;49m -> \u001B[0m\u001B[32;49m25.2\u001B[0m\r\n",
      "\u001B[1m[\u001B[0m\u001B[34;49mnotice\u001B[0m\u001B[1;39;49m]\u001B[0m\u001B[39;49m To update, run: \u001B[0m\u001B[32;49mpip install --upgrade pip\u001B[0m\r\n"
     ]
    }
   ],
   "source": [
    "# 이름이 약간 다르더라도(대소문자, 스페이스, 오타 등) 가장 유사한 향수 이름을 매칭하기 위한 라이브러리\n",
    "# !pip install thefuzz[speedup] pandas\n",
    "!pip install \"thefuzz[speedup]\" # mac zsh version"
   ],
   "metadata": {
    "collapsed": false,
    "ExecuteTime": {
     "end_time": "2025-08-12T14:58:11.231429Z",
     "start_time": "2025-08-12T14:58:09.161142Z"
    }
   },
   "id": "92c3342eec252edb"
  },
  {
   "cell_type": "code",
   "execution_count": 6,
   "outputs": [
    {
     "name": "stdout",
     "output_type": "stream",
     "text": [
      "Requirement already satisfied: chardet in /Users/parkvitna/IdeaProjects/pythonTest/venv/lib/python3.9/site-packages (5.2.0)\r\n",
      "\r\n",
      "\u001B[1m[\u001B[0m\u001B[34;49mnotice\u001B[0m\u001B[1;39;49m]\u001B[0m\u001B[39;49m A new release of pip is available: \u001B[0m\u001B[31;49m25.1.1\u001B[0m\u001B[39;49m -> \u001B[0m\u001B[32;49m25.2\u001B[0m\r\n",
      "\u001B[1m[\u001B[0m\u001B[34;49mnotice\u001B[0m\u001B[1;39;49m]\u001B[0m\u001B[39;49m To update, run: \u001B[0m\u001B[32;49mpip install --upgrade pip\u001B[0m\r\n"
     ]
    }
   ],
   "source": [
    "# csv 파일 인코딩 정보 확인 위함\n",
    "!pip install chardet"
   ],
   "metadata": {
    "collapsed": false,
    "ExecuteTime": {
     "end_time": "2025-08-12T15:29:59.146815Z",
     "start_time": "2025-08-12T15:29:58.310965Z"
    }
   },
   "id": "f3ba84770cb2f2f3"
  },
  {
   "cell_type": "code",
   "execution_count": 7,
   "outputs": [
    {
     "name": "stdout",
     "output_type": "stream",
     "text": [
      "{'encoding': 'ascii', 'confidence': 1.0, 'language': ''}\n"
     ]
    }
   ],
   "source": [
    "import chardet\n",
    "\n",
    "with open(\"./dataset/final_perfume_data.csv\", \"rb\") as f:\n",
    "    rawdata = f.read(10000)  # 파일 앞부분 10KB만 검사\n",
    "    result = chardet.detect(rawdata)\n",
    "    print(result)"
   ],
   "metadata": {
    "collapsed": false,
    "ExecuteTime": {
     "end_time": "2025-08-12T15:30:21.259085Z",
     "start_time": "2025-08-12T15:30:21.234533Z"
    }
   },
   "id": "29029393183e23ab"
  },
  {
   "cell_type": "code",
   "execution_count": 11,
   "outputs": [
    {
     "name": "stdout",
     "output_type": "stream",
     "text": [
      "Success with encoding: utf-8-sig\n"
     ]
    }
   ],
   "source": [
    "import pandas as pd\n",
    "\n",
    "for enc in ['utf-8-sig', 'utf-8', 'cp949', 'euc-kr', 'latin1']:\n",
    "    try:\n",
    "        # df1 = pd.read_csv(\"./dataset/final_perfume_data.csv\", encoding=enc)\n",
    "        df2 = pd.read_csv(\"./dataset/parfumo_datos.csv\", encoding=enc)\n",
    "        print(f\"Success with encoding: {enc}\")\n",
    "        break\n",
    "    except Exception as e:\n",
    "        print(f\"Failed with encoding: {enc}, error: {e}\")\n",
    "        print(\"\\n\")\n",
    "        \n",
    "        \n",
    "# df1 : Success with encoding: latin1\n",
    "# df2 : Success with encoding: utf-8-sig\n",
    "        "
   ],
   "metadata": {
    "collapsed": false,
    "ExecuteTime": {
     "end_time": "2025-08-12T15:35:23.906604Z",
     "start_time": "2025-08-12T15:35:23.751555Z"
    }
   },
   "id": "57243c4832fbc6f8"
  },
  {
   "cell_type": "code",
   "execution_count": 13,
   "outputs": [
    {
     "name": "stdout",
     "output_type": "stream",
     "text": [
      "병합된 데이터셋 크기: (2218, 20)\n",
      "                            Name_kaggle  \\\n",
      "0                  Tihota Eau de Parfum   \n",
      "1                           Sola Parfum   \n",
      "2                        Kagiroi Parfum   \n",
      "3          Velvet Fantasy Eau de Parfum   \n",
      "4   A Blvd. Called Sunset Eau de Parfum   \n",
      "5  Freckled and Beautiful Eau de Parfum   \n",
      "6           Exit the King Eau de Parfum   \n",
      "7                          Eshu Extrait   \n",
      "8                    Saringkarn Extrait   \n",
      "9                        Arsalan Parfum   \n",
      "\n",
      "                                  Matched_Name_clean  \\\n",
      "0                   méditation de la lune le ré noir   \n",
      "1                         parfum exaltant le ré noir   \n",
      "2                         parfum exaltant le ré noir   \n",
      "3   #flower power ramón monegal 2010 eau de toilette   \n",
      "4  on a clear day you can see forever cb i hate p...   \n",
      "5  *cough cough* i'm sick. sixteen92 2024 extrait...   \n",
      "6  - havana, glass of vanilla cocktail on the bea...   \n",
      "7  *cough cough* i'm sick. sixteen92 2024 extrait...   \n",
      "8  *cough cough* i'm sick. sixteen92 2024 extrait...   \n",
      "9                         parfum exaltant le ré noir   \n",
      "\n",
      "                                        Name_parfumo  \n",
      "0              #157 Méditation de la Lune Le Ré Noir  \n",
      "1                    #131 Parfum Exaltant Le Ré Noir  \n",
      "2                    #131 Parfum Exaltant Le Ré Noir  \n",
      "3   #Flower Power Ramón Monegal 2010 Eau de Toilette  \n",
      "4  #108 On A Clear Day You Can See Forever CB I H...  \n",
      "5  *Cough Cough* I'm Sick. Sixteen92 2024 Extrait...  \n",
      "6  #17 - Havana, Glass Of Vanilla Cocktail On The...  \n",
      "7  *Cough Cough* I'm Sick. Sixteen92 2024 Extrait...  \n",
      "8  *Cough Cough* I'm Sick. Sixteen92 2024 Extrait...  \n",
      "9                    #131 Parfum Exaltant Le Ré Noir  \n"
     ]
    }
   ],
   "source": [
    "import pandas as pd\n",
    "import re\n",
    "from thefuzz import process\n",
    "\n",
    "# 1. CSV 불러오기 (+ 인코딩)\n",
    "# description , 이미지 있는 데이터\n",
    "# Perfume Recommendation Dataset => https://www.kaggle.com/datasets/nandini1999/perfume-recommendation-dataset?utm_source=chatgpt.com\n",
    "df1 = pd.read_csv(\"./dataset/final_perfume_data.csv\", encoding=\"latin1\")   # Perfume Recommendation Dataset\n",
    "# 농도 메인어코드 탑/미들/베이스노트 \n",
    "# Parfumo Fragrance Dataset => https://www.kaggle.com/datasets/olgagmiufana1/parfumo-fragrance-dataset\n",
    "df2 = pd.read_csv(\"./dataset/parfumo_datos.csv\", encoding=\"utf-8-sig\")   # Parfumo Fragrance Dataset\n",
    "# 더 필요한 칼럼 : 가격 용량 부향률 성별\n",
    "\n",
    "# 2. 번호/특수문자 제거 함수\n",
    "def clean_name(name):\n",
    "    if pd.isna(name):\n",
    "        return \"\"\n",
    "    # \"#숫자 \" 패턴 제거 + 소문자 변환 + 앞뒤 공백 제거\n",
    "    name = re.sub(r\"^#\\d+\\s*\", \"\", str(name))\n",
    "    name = name.lower().strip()\n",
    "    return name\n",
    "\n",
    "# 3. 전처리 컬럼 생성\n",
    "df1[\"Name_clean\"] = df1[\"Name\"].apply(clean_name)\n",
    "df2[\"Name_clean\"] = df2[\"Name\"].apply(clean_name)\n",
    "\n",
    "# 4. fuzzy matching 함수 수정\n",
    "def match_name(name, choices, threshold=85):\n",
    "    result = process.extractOne(name, choices, score_cutoff=threshold)\n",
    "    if result is None:\n",
    "        return None\n",
    "    match_name, score = result[0], result[1]\n",
    "    return match_name\n",
    "\n",
    "# 5. 매칭 수행\n",
    "matches = []\n",
    "for name in df1[\"Name_clean\"]:\n",
    "    matched_name = match_name(name, df2[\"Name_clean\"], threshold=85)\n",
    "    matches.append(matched_name)\n",
    "\n",
    "df1[\"Matched_Name_clean\"] = matches\n",
    "\n",
    "# 6. 병합\n",
    "df_merged = pd.merge(df1, df2, left_on=\"Matched_Name_clean\", right_on=\"Name_clean\", how=\"left\", suffixes=(\"_kaggle\", \"_parfumo\"))\n",
    "\n",
    "# 7. 결과 저장\n",
    "df_merged.to_csv(\"dataset/perfume_merged_fuzzy.csv\", index=False)\n",
    "\n",
    "print(f\"병합된 데이터셋 크기: {df_merged.shape}\") # 3.3MB\n",
    "print(df_merged[[\"Name_kaggle\", \"Matched_Name_clean\", \"Name_parfumo\"]].head(10))\n"
   ],
   "metadata": {
    "collapsed": false,
    "ExecuteTime": {
     "end_time": "2025-08-12T15:43:14.240579Z",
     "start_time": "2025-08-12T15:37:48.298358Z"
    }
   },
   "id": "4f6cdc448a57f270"
  }
 ],
 "metadata": {
  "kernelspec": {
   "display_name": "Python 3",
   "language": "python",
   "name": "python3"
  },
  "language_info": {
   "codemirror_mode": {
    "name": "ipython",
    "version": 2
   },
   "file_extension": ".py",
   "mimetype": "text/x-python",
   "name": "python",
   "nbconvert_exporter": "python",
   "pygments_lexer": "ipython2",
   "version": "2.7.6"
  }
 },
 "nbformat": 4,
 "nbformat_minor": 5
}
