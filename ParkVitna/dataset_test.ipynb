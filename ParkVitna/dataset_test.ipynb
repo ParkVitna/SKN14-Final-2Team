{
 "cells": [
  {
   "cell_type": "code",
   "execution_count": 2,
   "outputs": [
    {
     "name": "stdout",
     "output_type": "stream",
     "text": [
      "Collecting thefuzz[speedup]\r\n",
      "  Downloading thefuzz-0.22.1-py3-none-any.whl.metadata (3.9 kB)\r\n",
      "Collecting rapidfuzz<4.0.0,>=3.0.0 (from thefuzz[speedup])\r\n",
      "  Downloading rapidfuzz-3.13.0-cp39-cp39-macosx_11_0_arm64.whl.metadata (12 kB)\r\n",
      "Downloading thefuzz-0.22.1-py3-none-any.whl (8.2 kB)\r\n",
      "Downloading rapidfuzz-3.13.0-cp39-cp39-macosx_11_0_arm64.whl (1.5 MB)\r\n",
      "\u001B[2K   \u001B[90m━━━━━━━━━━━━━━━━━━━━━━━━━━━━━━━━━━━━━━━━\u001B[0m \u001B[32m1.5/1.5 MB\u001B[0m \u001B[31m5.1 MB/s\u001B[0m eta \u001B[36m0:00:00\u001B[0ma \u001B[36m0:00:01\u001B[0m\r\n",
      "\u001B[?25hInstalling collected packages: rapidfuzz, thefuzz\r\n",
      "\u001B[2K   \u001B[90m━━━━━━━━━━━━━━━━━━━━━━━━━━━━━━━━━━━━━━━━\u001B[0m \u001B[32m2/2\u001B[0m [thefuzz]\r\n",
      "\u001B[1A\u001B[2KSuccessfully installed rapidfuzz-3.13.0 thefuzz-0.22.1\r\n",
      "\r\n",
      "\u001B[1m[\u001B[0m\u001B[34;49mnotice\u001B[0m\u001B[1;39;49m]\u001B[0m\u001B[39;49m A new release of pip is available: \u001B[0m\u001B[31;49m25.1.1\u001B[0m\u001B[39;49m -> \u001B[0m\u001B[32;49m25.2\u001B[0m\r\n",
      "\u001B[1m[\u001B[0m\u001B[34;49mnotice\u001B[0m\u001B[1;39;49m]\u001B[0m\u001B[39;49m To update, run: \u001B[0m\u001B[32;49mpip install --upgrade pip\u001B[0m\r\n"
     ]
    }
   ],
   "source": [
    "# 이름이 약간 다르더라도(대소문자, 스페이스, 오타 등) 가장 유사한 향수 이름을 매칭하기 위한 라이브러리\n",
    "# !pip install thefuzz[speedup] pandas\n",
    "!pip install \"thefuzz[speedup]\" # mac zsh version"
   ],
   "metadata": {
    "collapsed": false,
    "ExecuteTime": {
     "end_time": "2025-08-12T14:58:11.231429Z",
     "start_time": "2025-08-12T14:58:09.161142Z"
    }
   },
   "id": "92c3342eec252edb"
  },
  {
   "cell_type": "code",
   "execution_count": 6,
   "outputs": [
    {
     "name": "stdout",
     "output_type": "stream",
     "text": [
      "Requirement already satisfied: chardet in /Users/parkvitna/IdeaProjects/pythonTest/venv/lib/python3.9/site-packages (5.2.0)\r\n",
      "\r\n",
      "\u001B[1m[\u001B[0m\u001B[34;49mnotice\u001B[0m\u001B[1;39;49m]\u001B[0m\u001B[39;49m A new release of pip is available: \u001B[0m\u001B[31;49m25.1.1\u001B[0m\u001B[39;49m -> \u001B[0m\u001B[32;49m25.2\u001B[0m\r\n",
      "\u001B[1m[\u001B[0m\u001B[34;49mnotice\u001B[0m\u001B[1;39;49m]\u001B[0m\u001B[39;49m To update, run: \u001B[0m\u001B[32;49mpip install --upgrade pip\u001B[0m\r\n"
     ]
    }
   ],
   "source": [
    "# csv 파일 인코딩 정보 확인 위함\n",
    "!pip install chardet"
   ],
   "metadata": {
    "collapsed": false,
    "ExecuteTime": {
     "end_time": "2025-08-12T15:29:59.146815Z",
     "start_time": "2025-08-12T15:29:58.310965Z"
    }
   },
   "id": "f3ba84770cb2f2f3"
  },
  {
   "cell_type": "code",
   "execution_count": 7,
   "outputs": [
    {
     "name": "stdout",
     "output_type": "stream",
     "text": [
      "{'encoding': 'ascii', 'confidence': 1.0, 'language': ''}\n"
     ]
    }
   ],
   "source": [
    "import chardet\n",
    "\n",
    "with open(\"./dataset/final_perfume_data.csv\", \"rb\") as f:\n",
    "    rawdata = f.read(10000)  # 파일 앞부분 10KB만 검사\n",
    "    result = chardet.detect(rawdata)\n",
    "    print(result)"
   ],
   "metadata": {
    "collapsed": false,
    "ExecuteTime": {
     "end_time": "2025-08-12T15:30:21.259085Z",
     "start_time": "2025-08-12T15:30:21.234533Z"
    }
   },
   "id": "29029393183e23ab"
  },
  {
   "cell_type": "code",
   "execution_count": 1,
   "outputs": [
    {
     "name": "stdout",
     "output_type": "stream",
     "text": [
      "Success with encoding: utf-8-sig\n"
     ]
    }
   ],
   "source": [
    "import pandas as pd\n",
    "\n",
    "for enc in ['utf-8-sig', 'utf-8', 'cp949', 'euc-kr', 'latin1']:\n",
    "    try:\n",
    "        # df1 = pd.read_csv(\"./dataset/final_perfume_data.csv\", encoding=enc)\n",
    "        df2 = pd.read_csv(\"./dataset/perfume.csv\", encoding=enc)\n",
    "        print(f\"Success with encoding: {enc}\")\n",
    "        break\n",
    "    except Exception as e:\n",
    "        print(f\"Failed with encoding: {enc}, error: {e}\")\n",
    "        print(\"\\n\")\n",
    "        \n",
    "        \n",
    "# df1 : Success with encoding: latin1\n",
    "# df2 : Success with encoding: utf-8-sig\n",
    "        "
   ],
   "metadata": {
    "collapsed": false,
    "ExecuteTime": {
     "end_time": "2025-08-17T07:28:01.134023Z",
     "start_time": "2025-08-17T07:27:59.909068Z"
    }
   },
   "id": "57243c4832fbc6f8"
  },
  {
   "cell_type": "code",
   "execution_count": 13,
   "outputs": [
    {
     "name": "stdout",
     "output_type": "stream",
     "text": [
      "병합된 데이터셋 크기: (2218, 20)\n",
      "                            Name_kaggle  \\\n",
      "0                  Tihota Eau de Parfum   \n",
      "1                           Sola Parfum   \n",
      "2                        Kagiroi Parfum   \n",
      "3          Velvet Fantasy Eau de Parfum   \n",
      "4   A Blvd. Called Sunset Eau de Parfum   \n",
      "5  Freckled and Beautiful Eau de Parfum   \n",
      "6           Exit the King Eau de Parfum   \n",
      "7                          Eshu Extrait   \n",
      "8                    Saringkarn Extrait   \n",
      "9                        Arsalan Parfum   \n",
      "\n",
      "                                  Matched_Name_clean  \\\n",
      "0                   méditation de la lune le ré noir   \n",
      "1                         parfum exaltant le ré noir   \n",
      "2                         parfum exaltant le ré noir   \n",
      "3   #flower power ramón monegal 2010 eau de toilette   \n",
      "4  on a clear day you can see forever cb i hate p...   \n",
      "5  *cough cough* i'm sick. sixteen92 2024 extrait...   \n",
      "6  - havana, glass of vanilla cocktail on the bea...   \n",
      "7  *cough cough* i'm sick. sixteen92 2024 extrait...   \n",
      "8  *cough cough* i'm sick. sixteen92 2024 extrait...   \n",
      "9                         parfum exaltant le ré noir   \n",
      "\n",
      "                                        Name_parfumo  \n",
      "0              #157 Méditation de la Lune Le Ré Noir  \n",
      "1                    #131 Parfum Exaltant Le Ré Noir  \n",
      "2                    #131 Parfum Exaltant Le Ré Noir  \n",
      "3   #Flower Power Ramón Monegal 2010 Eau de Toilette  \n",
      "4  #108 On A Clear Day You Can See Forever CB I H...  \n",
      "5  *Cough Cough* I'm Sick. Sixteen92 2024 Extrait...  \n",
      "6  #17 - Havana, Glass Of Vanilla Cocktail On The...  \n",
      "7  *Cough Cough* I'm Sick. Sixteen92 2024 Extrait...  \n",
      "8  *Cough Cough* I'm Sick. Sixteen92 2024 Extrait...  \n",
      "9                    #131 Parfum Exaltant Le Ré Noir  \n"
     ]
    }
   ],
   "source": [
    "import pandas as pd\n",
    "import re\n",
    "from thefuzz import process\n",
    "\n",
    "# 1. CSV 불러오기 (+ 인코딩)\n",
    "# description , 이미지 있는 데이터\n",
    "# Perfume Recommendation Dataset => https://www.kaggle.com/datasets/nandini1999/perfume-recommendation-dataset?utm_source=chatgpt.com\n",
    "df1 = pd.read_csv(\"./dataset/final_perfume_data.csv\", encoding=\"latin1\")   # Perfume Recommendation Dataset\n",
    "# 농도 메인어코드 탑/미들/베이스노트 \n",
    "# Parfumo Fragrance Dataset => https://www.kaggle.com/datasets/olgagmiufana1/parfumo-fragrance-dataset\n",
    "df2 = pd.read_csv(\"./dataset/parfumo_datos.csv\", encoding=\"utf-8-sig\")   # Parfumo Fragrance Dataset\n",
    "# 더 필요한 칼럼 : 가격 용량 부향률 성별\n",
    "\n",
    "# 2. 번호/특수문자 제거 함수\n",
    "def clean_name(name):\n",
    "    if pd.isna(name):\n",
    "        return \"\"\n",
    "    # \"#숫자 \" 패턴 제거 + 소문자 변환 + 앞뒤 공백 제거\n",
    "    name = re.sub(r\"^#\\d+\\s*\", \"\", str(name))\n",
    "    name = name.lower().strip()\n",
    "    return name\n",
    "\n",
    "# 3. 전처리 컬럼 생성\n",
    "df1[\"Name_clean\"] = df1[\"Name\"].apply(clean_name)\n",
    "df2[\"Name_clean\"] = df2[\"Name\"].apply(clean_name)\n",
    "\n",
    "# 4. fuzzy matching 함수 수정\n",
    "def match_name(name, choices, threshold=85):\n",
    "    result = process.extractOne(name, choices, score_cutoff=threshold)\n",
    "    if result is None:\n",
    "        return None\n",
    "    match_name, score = result[0], result[1]\n",
    "    return match_name\n",
    "\n",
    "# 5. 매칭 수행\n",
    "matches = []\n",
    "for name in df1[\"Name_clean\"]:\n",
    "    matched_name = match_name(name, df2[\"Name_clean\"], threshold=85)\n",
    "    matches.append(matched_name)\n",
    "\n",
    "df1[\"Matched_Name_clean\"] = matches\n",
    "\n",
    "# 6. 병합\n",
    "df_merged = pd.merge(df1, df2, left_on=\"Matched_Name_clean\", right_on=\"Name_clean\", how=\"left\", suffixes=(\"_kaggle\", \"_parfumo\"))\n",
    "\n",
    "# 7. 결과 저장\n",
    "df_merged.to_csv(\"dataset/perfume_merged_fuzzy.csv\", index=False)\n",
    "\n",
    "print(f\"병합된 데이터셋 크기: {df_merged.shape}\") # 3.3MB\n",
    "print(df_merged[[\"Name_kaggle\", \"Matched_Name_clean\", \"Name_parfumo\"]].head(10))\n"
   ],
   "metadata": {
    "collapsed": false,
    "ExecuteTime": {
     "end_time": "2025-08-12T15:43:14.240579Z",
     "start_time": "2025-08-12T15:37:48.298358Z"
    }
   },
   "id": "4f6cdc448a57f270"
  },
  {
   "cell_type": "code",
   "execution_count": 7,
   "outputs": [
    {
     "name": "stdout",
     "output_type": "stream",
     "text": [
      "      부향률           메인 어코드                         탑 노트               미들 노트  \\\n",
      "0  오 드 퍼퓸     프루티, 스위트, 레더  베르가못, 블랙 커런트, 애플, 레몬, 핑크 페퍼  파인애플, 패출리, 모로칸 자스민   \n",
      "1  오 드 퍼퓸     프루티, 스위트, 레더  베르가못, 블랙 커런트, 애플, 레몬, 핑크 페퍼  파인애플, 패출리, 모로칸 자스민   \n",
      "2  오 드 퍼퓸  우디, 오우드, 웜 스파이시                                                    \n",
      "\n",
      "                         베이스 노트  \\\n",
      "0  자작나무, 머스크, 오크 모스, 암브록산, 시더우드   \n",
      "1  자작나무, 머스크, 오크 모스, 암브록산, 시더우드   \n",
      "2                                 \n",
      "\n",
      "                                                향 설명  \n",
      "0  용기와 힘, 비전, 그리고 성공을 기원하는 고급진 향 일부 상품에 한하여 신규로 리...  \n",
      "1  용기와 힘, 비전, 그리고 성공을 기원하는 고급진 향 일부 상품에 한하여 신규로 리...  \n",
      "2             청량한 소나무 계열의 향과 부드러운 침구가 부드럽게 감싸주는 듯한 향  \n"
     ]
    }
   ],
   "source": [
    "import pandas as pd\n",
    "import re\n",
    "\n",
    "# 0) CSV 읽기 (인코딩은 환경에 맞게 조정: 보통 'utf-8-sig' 또는 'cp949')\n",
    "df = pd.read_csv(\"./dataset/perfume.csv\", encoding=\"utf-8-sig\")  # 필요시 cp949로 변경\n",
    "\n",
    "# ---------------------------------------------------------------------\n",
    "# 유틸\n",
    "# ---------------------------------------------------------------------\n",
    "def _normalize_newlines(s: str) -> str:\n",
    "    # \\r\\n, \\r -> \\n 통일 + 리터럴 \"\\n\" 도 실제 개행으로 변환\n",
    "    return s.replace(\"\\r\\n\", \"\\n\").replace(\"\\r\", \"\\n\").replace(\"\\\\n\", \"\\n\")\n",
    "\n",
    "def _cleanup_bullets_and_whitespace(s: str) -> str:\n",
    "    \"\"\"\n",
    "    각 줄 맨앞의 '-', '*' 같은 불릿 제거 후 줄을 공백으로 합쳐 한 줄로 만듭니다.\n",
    "    \"\"\"\n",
    "    lines = []\n",
    "    for line in s.split(\"\\n\"):\n",
    "        line = re.sub(r\"^\\s*[-*]\\s*\", \"\", line)  # 앞의 불릿 제거\n",
    "        if line.strip():\n",
    "            lines.append(line.strip())\n",
    "    one_line = \" \".join(lines)\n",
    "    one_line = re.sub(r\"\\s+\", \" \", one_line).strip()\n",
    "    return one_line\n",
    "\n",
    "def _normalize_list_string(s: str) -> str:\n",
    "    \"\"\"\n",
    "    '프루티 / 스위트 / 레더' 같은 문자열을\n",
    "    '프루티, 스위트, 레더' 형태로 통일.\n",
    "    \"\"\"\n",
    "    # 슬래시, 쉼표(전각 포함) 등으로 분리\n",
    "    parts = [p.strip() for p in re.split(r\"[\\/,、\\u3001]+\", s) if p.strip()]\n",
    "    return \", \".join(parts)\n",
    "\n",
    "def _extract_section(text: str, pattern: str, take_to_end=False) -> str:\n",
    "    \"\"\"\n",
    "    [헤더]로 시작하는 섹션을 캡처합니다.\n",
    "    - take_to_end=True 이면 문서 끝까지, False면 다음 [헤더] 직전까지.\n",
    "    pattern: 예) r\"\\[부향률\\]\"\n",
    "    \"\"\"\n",
    "    if take_to_end:\n",
    "        m = re.search(pattern + r\"\\s*(.+)\\Z\", text, flags=re.S)\n",
    "    else:\n",
    "        m = re.search(pattern + r\"\\s*(.+?)(?=\\n\\[[^\\]]+\\]|\\Z)\", text, flags=re.S)\n",
    "    return m.group(1).strip() if m else \"\"\n",
    "\n",
    "def _extract_note_line(block: str, label_kr: str) -> str:\n",
    "    \"\"\"\n",
    "    메인 노트 블록에서 '- 탑 노트: ...' 처럼 특정 라벨 줄만 뽑아 정리.\n",
    "    반환은 'A, B, C' 형태 문자열.\n",
    "    \"\"\"\n",
    "    # 줄 단위 탐색 (불릿/공백 허용, 콜론 형태 허용)\n",
    "    mm = re.search(\n",
    "        rf\"(?m)^\\s*-\\s*{label_kr}\\s*노트\\s*[:：]\\s*(.+?)\\s*$\",\n",
    "        block\n",
    "    )\n",
    "    if not mm:\n",
    "        return \"\"\n",
    "    raw = mm.group(1).strip()\n",
    "    return _normalize_list_string(raw)\n",
    "\n",
    "# ---------------------------------------------------------------------\n",
    "# 메인 파서\n",
    "# ---------------------------------------------------------------------\n",
    "def parse_description(text):\n",
    "    if not isinstance(text, str):\n",
    "        text = \"\"\n",
    "    text = _normalize_newlines(text)\n",
    "\n",
    "    out = {\n",
    "        \"부향률\": \"\",\n",
    "        \"메인 어코드\": \"\",\n",
    "        \"탑 노트\": \"\",\n",
    "        \"미들 노트\": \"\",\n",
    "        \"베이스 노트\": \"\",\n",
    "        \"향 설명\": \"\",\n",
    "    }\n",
    "\n",
    "    # [부향률] : 다음 [헤더] 전까지\n",
    "    sec = _extract_section(text, r\"\\[부향률\\]\")\n",
    "    if sec:\n",
    "        out[\"부향률\"] = _cleanup_bullets_and_whitespace(sec)\n",
    "\n",
    "    # [메인 어코드] : 다음 [헤더] 전까지 -> 리스트 정규화 후 \"A, B, C\"\n",
    "    sec = _extract_section(text, r\"\\[메인\\s*어코드\\]\")\n",
    "    if sec:\n",
    "        sec = _cleanup_bullets_and_whitespace(sec)\n",
    "        out[\"메인 어코드\"] = _normalize_list_string(sec)\n",
    "\n",
    "    # [메인 노트] 블록\n",
    "    notes_block = _extract_section(text, r\"\\[메인\\s*노트\\]\")\n",
    "    if notes_block:\n",
    "        out[\"탑 노트\"]    = _extract_note_line(notes_block, \"탑\")\n",
    "        out[\"미들 노트\"]  = _extract_note_line(notes_block, \"미들\")\n",
    "        out[\"베이스 노트\"] = _extract_note_line(notes_block, \"베이스\")\n",
    "\n",
    "    # [향 설명] : 문서 끝까지 포함 (하단 * 안내문까지 포함)\n",
    "    sec = _extract_section(text, r\"\\[향\\s*설명\\]\", take_to_end=True)\n",
    "    if sec:\n",
    "        out[\"향 설명\"] = _cleanup_bullets_and_whitespace(sec)\n",
    "\n",
    "    return out\n",
    "\n",
    "# ---------------------------------------------------------------------\n",
    "# 실행\n",
    "# ---------------------------------------------------------------------\n",
    "parsed = df[\"description\"].apply(parse_description)\n",
    "parsed_df = pd.DataFrame(parsed.tolist())\n",
    "\n",
    "# 원본과 합치고 저장 (Excel 호환을 위해 utf-8-sig 권장)\n",
    "final_df = pd.concat([df, parsed_df], axis=1)\n",
    "final_df.to_csv(\"./dataset/separated_perfume.csv\", index=False, encoding=\"utf-8-sig\")\n",
    "\n",
    "print(final_df[[\"부향률\", \"메인 어코드\", \"탑 노트\", \"미들 노트\", \"베이스 노트\", \"향 설명\"]].head(3))"
   ],
   "metadata": {
    "collapsed": false,
    "ExecuteTime": {
     "end_time": "2025-08-17T07:47:17.639912Z",
     "start_time": "2025-08-17T07:47:17.586141Z"
    }
   },
   "id": "acc660651c69a385"
  },
  {
   "cell_type": "code",
   "execution_count": 13,
   "outputs": [
    {
     "name": "stdout",
     "output_type": "stream",
     "text": [
      "0             용기와 힘, 비전, 그리고 성공을 기원하는 고급진 향\n",
      "1             용기와 힘, 비전, 그리고 성공을 기원하는 고급진 향\n",
      "2    청량한 소나무 계열의 향과 부드러운 침구가 부드럽게 감싸주는 듯한 향\n",
      "Name: 향 설명, dtype: object\n"
     ]
    }
   ],
   "source": [
    "# 공지 문구 제거\n",
    "import re\n",
    "\n",
    "# NOTICE_TEXT = \"일부 상품에 한하여 신규로 리뉴얼 된 디자인의 제품이 발송될 수 있습니다. 이로 인한 교환/반품은 어려운 점 참고 부탁드립니다.\"\n",
    "NOTICE_TEXT = \"본 제품은 아시아에서 유통되는 상품이 아닌, 유럽에서 유통되는 상품입니다.\"\n",
    "\n",
    "def clean_notice(desc: str) -> str:\n",
    "    \"\"\"향 설명에서 공지 문구 제거\"\"\"\n",
    "    if not isinstance(desc, str):\n",
    "        return desc\n",
    "    # 지정된 공지 문구 제거\n",
    "    cleaned = desc.replace(NOTICE_TEXT, \"\")\n",
    "    # 불필요한 공백 정리\n",
    "    cleaned = re.sub(r\"\\s+\", \" \", cleaned).strip()\n",
    "    return cleaned\n",
    "\n",
    "# 적용\n",
    "final_df[\"향 설명\"] = final_df[\"향 설명\"].apply(clean_notice)\n",
    "\n",
    "# 저장\n",
    "final_df.to_csv(\"./dataset/separated_perfume_cleaned.csv\", index=False, encoding=\"utf-8-sig\")\n",
    "\n",
    "print(final_df[\"향 설명\"].head(3))"
   ],
   "metadata": {
    "collapsed": false,
    "ExecuteTime": {
     "end_time": "2025-08-17T07:53:23.792050Z",
     "start_time": "2025-08-17T07:53:23.772665Z"
    }
   },
   "id": "b2e12d9ee8b8689f"
  },
  {
   "cell_type": "code",
   "execution_count": 14,
   "outputs": [
    {
     "data": {
      "text/plain": "  brand          name size_ml  price_krw  \\\n0   크리드   어벤투스 오 드 퍼퓸    50ml   255000.0   \n1   크리드   어벤투스 오 드 퍼퓸   100ml   399220.0   \n2  톰 포드  오드 우드 오 드 퍼퓸    30ml   179000.0   \n3  톰 포드  오드 우드 오 드 퍼퓸    50ml   249000.0   \n4    이솝     테싯 오 드 퍼퓸    50ml   135000.0   \n\n                                  detail_url  \\\n0   https://www.bysuco.com/product/show/9370   \n1   https://www.bysuco.com/product/show/9370   \n2  https://www.bysuco.com/product/show/10716   \n3  https://www.bysuco.com/product/show/10716   \n4   https://www.bysuco.com/product/show/9970   \n\n                                         description     부향률  \\\n0  [부향률] \\n- 오 드 퍼퓸\\n\\n[메인 어코드]\\n- 프루티 / 스위트 / 레더...  오 드 퍼퓸   \n1  [부향률] \\n- 오 드 퍼퓸\\n\\n[메인 어코드]\\n- 프루티 / 스위트 / 레더...  오 드 퍼퓸   \n2  [부향률] \\n- 오 드 퍼퓸\\n\\n[메인 어코드]\\n- 우디 / 오우드 / 웜 스...  오 드 퍼퓸   \n3  [부향률] \\n- 오 드 퍼퓸\\n\\n[메인 어코드]\\n- 우디 / 오우드 / 웜 스...  오 드 퍼퓸   \n4  [부향률] \\n- 오 드 퍼퓸\\n\\n[메인 어코드]\\n- 시트러스 / 아로마틱 / ...  오 드 퍼퓸   \n\n                 메인 어코드                         탑 노트               미들 노트  \\\n0          프루티, 스위트, 레더  베르가못, 블랙 커런트, 애플, 레몬, 핑크 페퍼  파인애플, 패출리, 모로칸 자스민   \n1          프루티, 스위트, 레더  베르가못, 블랙 커런트, 애플, 레몬, 핑크 페퍼  파인애플, 패출리, 모로칸 자스민   \n2       우디, 오우드, 웜 스파이시                          NaN                 NaN   \n3       우디, 오우드, 웜 스파이시                          NaN                 NaN   \n4  시트러스, 아로마틱, 프레쉬 스파이시                     유자, 시트러스                  바질   \n\n                         베이스 노트                                    향 설명  \n0  자작나무, 머스크, 오크 모스, 암브록산, 시더우드           용기와 힘, 비전, 그리고 성공을 기원하는 고급진 향  \n1  자작나무, 머스크, 오크 모스, 암브록산, 시더우드           용기와 힘, 비전, 그리고 성공을 기원하는 고급진 향  \n2                           NaN  청량한 소나무 계열의 향과 부드러운 침구가 부드럽게 감싸주는 듯한 향  \n3                           NaN  청량한 소나무 계열의 향과 부드러운 침구가 부드럽게 감싸주는 듯한 향  \n4                      베티버, 클로브  이솝의 시그니처 향기로 따뜻하고 생기넘치며 마음을 릴렉싱 시켜주는 향  ",
      "text/html": "<div>\n<style scoped>\n    .dataframe tbody tr th:only-of-type {\n        vertical-align: middle;\n    }\n\n    .dataframe tbody tr th {\n        vertical-align: top;\n    }\n\n    .dataframe thead th {\n        text-align: right;\n    }\n</style>\n<table border=\"1\" class=\"dataframe\">\n  <thead>\n    <tr style=\"text-align: right;\">\n      <th></th>\n      <th>brand</th>\n      <th>name</th>\n      <th>size_ml</th>\n      <th>price_krw</th>\n      <th>detail_url</th>\n      <th>description</th>\n      <th>부향률</th>\n      <th>메인 어코드</th>\n      <th>탑 노트</th>\n      <th>미들 노트</th>\n      <th>베이스 노트</th>\n      <th>향 설명</th>\n    </tr>\n  </thead>\n  <tbody>\n    <tr>\n      <th>0</th>\n      <td>크리드</td>\n      <td>어벤투스 오 드 퍼퓸</td>\n      <td>50ml</td>\n      <td>255000.0</td>\n      <td>https://www.bysuco.com/product/show/9370</td>\n      <td>[부향률] \\n- 오 드 퍼퓸\\n\\n[메인 어코드]\\n- 프루티 / 스위트 / 레더...</td>\n      <td>오 드 퍼퓸</td>\n      <td>프루티, 스위트, 레더</td>\n      <td>베르가못, 블랙 커런트, 애플, 레몬, 핑크 페퍼</td>\n      <td>파인애플, 패출리, 모로칸 자스민</td>\n      <td>자작나무, 머스크, 오크 모스, 암브록산, 시더우드</td>\n      <td>용기와 힘, 비전, 그리고 성공을 기원하는 고급진 향</td>\n    </tr>\n    <tr>\n      <th>1</th>\n      <td>크리드</td>\n      <td>어벤투스 오 드 퍼퓸</td>\n      <td>100ml</td>\n      <td>399220.0</td>\n      <td>https://www.bysuco.com/product/show/9370</td>\n      <td>[부향률] \\n- 오 드 퍼퓸\\n\\n[메인 어코드]\\n- 프루티 / 스위트 / 레더...</td>\n      <td>오 드 퍼퓸</td>\n      <td>프루티, 스위트, 레더</td>\n      <td>베르가못, 블랙 커런트, 애플, 레몬, 핑크 페퍼</td>\n      <td>파인애플, 패출리, 모로칸 자스민</td>\n      <td>자작나무, 머스크, 오크 모스, 암브록산, 시더우드</td>\n      <td>용기와 힘, 비전, 그리고 성공을 기원하는 고급진 향</td>\n    </tr>\n    <tr>\n      <th>2</th>\n      <td>톰 포드</td>\n      <td>오드 우드 오 드 퍼퓸</td>\n      <td>30ml</td>\n      <td>179000.0</td>\n      <td>https://www.bysuco.com/product/show/10716</td>\n      <td>[부향률] \\n- 오 드 퍼퓸\\n\\n[메인 어코드]\\n- 우디 / 오우드 / 웜 스...</td>\n      <td>오 드 퍼퓸</td>\n      <td>우디, 오우드, 웜 스파이시</td>\n      <td>NaN</td>\n      <td>NaN</td>\n      <td>NaN</td>\n      <td>청량한 소나무 계열의 향과 부드러운 침구가 부드럽게 감싸주는 듯한 향</td>\n    </tr>\n    <tr>\n      <th>3</th>\n      <td>톰 포드</td>\n      <td>오드 우드 오 드 퍼퓸</td>\n      <td>50ml</td>\n      <td>249000.0</td>\n      <td>https://www.bysuco.com/product/show/10716</td>\n      <td>[부향률] \\n- 오 드 퍼퓸\\n\\n[메인 어코드]\\n- 우디 / 오우드 / 웜 스...</td>\n      <td>오 드 퍼퓸</td>\n      <td>우디, 오우드, 웜 스파이시</td>\n      <td>NaN</td>\n      <td>NaN</td>\n      <td>NaN</td>\n      <td>청량한 소나무 계열의 향과 부드러운 침구가 부드럽게 감싸주는 듯한 향</td>\n    </tr>\n    <tr>\n      <th>4</th>\n      <td>이솝</td>\n      <td>테싯 오 드 퍼퓸</td>\n      <td>50ml</td>\n      <td>135000.0</td>\n      <td>https://www.bysuco.com/product/show/9970</td>\n      <td>[부향률] \\n- 오 드 퍼퓸\\n\\n[메인 어코드]\\n- 시트러스 / 아로마틱 / ...</td>\n      <td>오 드 퍼퓸</td>\n      <td>시트러스, 아로마틱, 프레쉬 스파이시</td>\n      <td>유자, 시트러스</td>\n      <td>바질</td>\n      <td>베티버, 클로브</td>\n      <td>이솝의 시그니처 향기로 따뜻하고 생기넘치며 마음을 릴렉싱 시켜주는 향</td>\n    </tr>\n  </tbody>\n</table>\n</div>"
     },
     "execution_count": 14,
     "metadata": {},
     "output_type": "execute_result"
    }
   ],
   "source": [
    "import pandas as pd\n",
    "\n",
    "df = pd.read_csv(\"./dataset/separated_perfume_cleaned.csv\", encoding=\"utf-8-sig\")\n",
    "df.head()"
   ],
   "metadata": {
    "collapsed": false,
    "ExecuteTime": {
     "end_time": "2025-08-17T07:53:25.853667Z",
     "start_time": "2025-08-17T07:53:25.827617Z"
    }
   },
   "id": "fce5d7574c168d44"
  }
 ],
 "metadata": {
  "kernelspec": {
   "display_name": "Python 3",
   "language": "python",
   "name": "python3"
  },
  "language_info": {
   "codemirror_mode": {
    "name": "ipython",
    "version": 2
   },
   "file_extension": ".py",
   "mimetype": "text/x-python",
   "name": "python",
   "nbconvert_exporter": "python",
   "pygments_lexer": "ipython2",
   "version": "2.7.6"
  }
 },
 "nbformat": 4,
 "nbformat_minor": 5
}
